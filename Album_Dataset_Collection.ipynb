{
 "cells": [
  {
   "cell_type": "markdown",
   "id": "a79332fe",
   "metadata": {},
   "source": [
    "## Album Data Collection"
   ]
  },
  {
   "cell_type": "code",
   "execution_count": 2,
   "id": "4b478185",
   "metadata": {},
   "outputs": [],
   "source": [
    "# import libraries\n",
    "import pandas as pd\n",
    "import spotipy\n",
    "from spotipy.oauth2 import SpotifyClientCredentials\n",
    "from bs4 import BeautifulSoup\n",
    "import requests\n",
    "import csv\n",
    "import re\n",
    "from tqdm import tqdm"
   ]
  },
  {
   "cell_type": "code",
   "execution_count": 3,
   "id": "82b5f8e2",
   "metadata": {},
   "outputs": [],
   "source": [
    "# connect to Spotify Client\n",
    "cid ='d7fed0d1ecac4b5184554706d76d5a22'\n",
    "secret ='0c1758d9564b4659b730f2a05c104ccb'\n",
    "\n",
    "client_credentials_manager = SpotifyClientCredentials(client_id=cid, client_secret=secret)\n",
    "sp = spotipy.Spotify(client_credentials_manager = client_credentials_manager)"
   ]
  },
  {
   "cell_type": "code",
   "execution_count": 4,
   "id": "1e16915c",
   "metadata": {},
   "outputs": [],
   "source": [
    "#insert the URI as a string into the function\n",
    "def add_track(df, uri_info):\n",
    "    one = sp.track(uri_info, market='US')  \n",
    "    cover = None\n",
    "    if len(one['album']['images']) > 0:\n",
    "        cover = one['album']['images'][0]['url']\n",
    "    return pd.concat([df, pd.DataFrame({\n",
    "    'uri':[one['uri']],\n",
    "    'track':[one['name']],\n",
    "    'artist': [one['artists'][0]['name'].lower()],\n",
    "    'cover image': [cover]})], ignore_index=True)\n",
    "    \n",
    "#     return df2, artist[0]"
   ]
  },
  {
   "cell_type": "code",
   "execution_count": 5,
   "id": "5bc416ed",
   "metadata": {},
   "outputs": [
    {
     "data": {
      "text/plain": [
       "'https://i.scdn.co/image/ab67616d0000b273c5649add07ed3720be9d5526'"
      ]
     },
     "execution_count": 5,
     "metadata": {},
     "output_type": "execute_result"
    }
   ],
   "source": [
    "df = pd.DataFrame()\n",
    "df = add_track(df, 'spotify:track:2ZWlPOoWh0626oTaHrnl2a')\n",
    "df = add_track(df, 'spotify:track:2ZWlPOoWh0626oTaHrnl2a')\n",
    "df.loc[0]['cover image']"
   ]
  },
  {
   "cell_type": "code",
   "execution_count": 6,
   "id": "2a62d125",
   "metadata": {},
   "outputs": [],
   "source": [
    "#function to scrape lyrics from genius\n",
    "def scrape_lyrics(artistname, songname):\n",
    "    artistname2 = str(re.sub(r'[^A-Za-z0-9 ]+', '', artistname).replace(' ','-'))\n",
    "    songname2 = str(re.sub(r'[^A-Za-z0-9 ]+', '', songname).replace(' ','-'))\n",
    "    page = requests.get('https://genius.com/'+ artistname2 + '-' + songname2 + '-' + 'lyrics')\n",
    "#     print('https://genius.com/'+ artistname2 + '-' + songname2 + '-' + 'lyrics')\n",
    "    html = BeautifulSoup(page.text, 'html.parser')\n",
    "    lyrics1 = html.find(\"div\", id_=\"lyrics\")\n",
    "    lyrics2 = html.find(\"div\", class_=\"Lyrics__Container-sc-1ynbvzw-6 jYfhrf\")\n",
    "    if lyrics1:\n",
    "        lyrics = lyrics1.get_text()\n",
    "    elif lyrics2:\n",
    "        lyrics = lyrics2.get_text()\n",
    "    elif lyrics1 == lyrics2 == None:\n",
    "        lyrics = None\n",
    "    return lyrics\n",
    "\n",
    "#function to attach lyrics onto data frame\n",
    "#artist_name should be inserted as a string\n",
    "def lyrics_onto_frame(df1, i):\n",
    "    test = scrape_lyrics(df1.loc[i]['artist'], df1.loc[i]['track'])\n",
    "    df1.loc[i, 'lyrics'] = test\n",
    "    return df1\n"
   ]
  },
  {
   "cell_type": "code",
   "execution_count": 7,
   "id": "2b7bc280",
   "metadata": {},
   "outputs": [
    {
     "name": "stderr",
     "output_type": "stream",
     "text": [
      "100%|██████████████████████████████████████████████████████████████████| 17000/17000 [25:53<00:00, 10.94it/s]"
     ]
    },
    {
     "name": "stdout",
     "output_type": "stream",
     "text": [
      "Processed 17001 lines.\n",
      "17001\n"
     ]
    },
    {
     "name": "stderr",
     "output_type": "stream",
     "text": [
      "\n"
     ]
    }
   ],
   "source": [
    "# read in all tracks\n",
    "\n",
    "df = pd.DataFrame()\n",
    "df = pd.read_pickle(\"all_data24.pkl\")\n",
    "        \n",
    "with open('genres_v2.csv') as csv_file:\n",
    "    csv_reader = csv.reader(csv_file, delimiter=',')\n",
    "    line_count = 0\n",
    "    for row in tqdm(csv_reader, total=17000):\n",
    "        # if line_count < 15525:\n",
    "        #     line_count += 1\n",
    "        #     continue\n",
    "        if line_count > 0:\n",
    "            df = add_track(df, row[13])\n",
    "            lyrics_onto_frame(df, line_count-1)\n",
    "            line_count += 1\n",
    "        else:\n",
    "            line_count += 1\n",
    "        if line_count > 17000:\n",
    "            break\n",
    "    print(f'Processed {line_count} lines.')\n",
    "\n",
    "print(len(df))\n",
    "df = df[df['lyrics'].notnull()]\n",
    "df = df[df['cover image'].notnull()]\n",
    "df.to_pickle(\"final_data.pkl\")"
   ]
  },
  {
   "cell_type": "code",
   "execution_count": 13,
   "id": "79b8bdfe",
   "metadata": {},
   "outputs": [
    {
     "name": "stdout",
     "output_type": "stream",
     "text": [
      "10232\n"
     ]
    }
   ],
   "source": [
    "print(len(df))\n",
    "df.loc[0, 'lyrics']"
   ]
  }
 ],
 "metadata": {
  "kernelspec": {
   "display_name": "Python 3 (ipykernel)",
   "language": "python",
   "name": "python3"
  },
  "language_info": {
   "codemirror_mode": {
    "name": "ipython",
    "version": 3
   },
   "file_extension": ".py",
   "mimetype": "text/x-python",
   "name": "python",
   "nbconvert_exporter": "python",
   "pygments_lexer": "ipython3",
   "version": "3.9.6"
  }
 },
 "nbformat": 4,
 "nbformat_minor": 5
}
