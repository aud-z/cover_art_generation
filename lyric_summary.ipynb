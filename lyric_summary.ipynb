{
 "cells": [
  {
   "cell_type": "code",
   "execution_count": 1,
   "metadata": {},
   "outputs": [],
   "source": [
    "import pickle as pickle\n",
    "import pandas as pd\n",
    "import re"
   ]
  },
  {
   "cell_type": "code",
   "execution_count": 2,
   "metadata": {},
   "outputs": [
    {
     "data": {
      "text/html": [
       "<div>\n",
       "<style scoped>\n",
       "    .dataframe tbody tr th:only-of-type {\n",
       "        vertical-align: middle;\n",
       "    }\n",
       "\n",
       "    .dataframe tbody tr th {\n",
       "        vertical-align: top;\n",
       "    }\n",
       "\n",
       "    .dataframe thead th {\n",
       "        text-align: right;\n",
       "    }\n",
       "</style>\n",
       "<table border=\"1\" class=\"dataframe\">\n",
       "  <thead>\n",
       "    <tr style=\"text-align: right;\">\n",
       "      <th></th>\n",
       "      <th>uri</th>\n",
       "      <th>track</th>\n",
       "      <th>artist</th>\n",
       "      <th>cover image</th>\n",
       "      <th>lyrics</th>\n",
       "    </tr>\n",
       "  </thead>\n",
       "  <tbody>\n",
       "    <tr>\n",
       "      <th>0</th>\n",
       "      <td>spotify:track:2Vc6NJ9PW9gD9q343XFRKx</td>\n",
       "      <td>Mercury: Retrograde</td>\n",
       "      <td>ghostemane</td>\n",
       "      <td>https://i.scdn.co/image/ab67616d0000b27347fa48...</td>\n",
       "      <td>[Intro]Ask me if I give a fuck about a clique,...</td>\n",
       "    </tr>\n",
       "    <tr>\n",
       "      <th>1</th>\n",
       "      <td>spotify:track:7pgJBLVz5VmnL7uGHmRj6p</td>\n",
       "      <td>Pathology</td>\n",
       "      <td>don kenobi</td>\n",
       "      <td>https://i.scdn.co/image/ab67616d0000b27391b3f8...</td>\n",
       "      <td>[Intro: Don Kenobi]In due time it feels like t...</td>\n",
       "    </tr>\n",
       "    <tr>\n",
       "      <th>2</th>\n",
       "      <td>spotify:track:0vSWgAlfpye0WCGeNmuNhy</td>\n",
       "      <td>Symbiote</td>\n",
       "      <td>gizmo</td>\n",
       "      <td>https://i.scdn.co/image/ab67616d0000b2731981f3...</td>\n",
       "      <td>[Verse]Aye, AyeSmoke a Dutch bluntDon't flick ...</td>\n",
       "    </tr>\n",
       "    <tr>\n",
       "      <th>4</th>\n",
       "      <td>spotify:track:4RYhSQFFlquCTb8XRMJgFU</td>\n",
       "      <td>Venom</td>\n",
       "      <td>$uicideboy$</td>\n",
       "      <td>https://i.scdn.co/image/ab67616d0000b2737811bf...</td>\n",
       "      <td>[Intro: D.J. Live Wire]Ratatatatatata, boom!Ra...</td>\n",
       "    </tr>\n",
       "    <tr>\n",
       "      <th>5</th>\n",
       "      <td>spotify:track:6fsypiJHyWmeINsOLC1cos</td>\n",
       "      <td>Gatteka</td>\n",
       "      <td>ghostemane</td>\n",
       "      <td>https://i.scdn.co/image/ab67616d0000b273b5ea1c...</td>\n",
       "      <td>[Intro]Ayy, ayy, uh, uh, uh[Chorus]See, I just...</td>\n",
       "    </tr>\n",
       "  </tbody>\n",
       "</table>\n",
       "</div>"
      ],
      "text/plain": [
       "                                    uri                track       artist  \\\n",
       "0  spotify:track:2Vc6NJ9PW9gD9q343XFRKx  Mercury: Retrograde   ghostemane   \n",
       "1  spotify:track:7pgJBLVz5VmnL7uGHmRj6p            Pathology   don kenobi   \n",
       "2  spotify:track:0vSWgAlfpye0WCGeNmuNhy             Symbiote        gizmo   \n",
       "4  spotify:track:4RYhSQFFlquCTb8XRMJgFU                Venom  $uicideboy$   \n",
       "5  spotify:track:6fsypiJHyWmeINsOLC1cos              Gatteka   ghostemane   \n",
       "\n",
       "                                         cover image  \\\n",
       "0  https://i.scdn.co/image/ab67616d0000b27347fa48...   \n",
       "1  https://i.scdn.co/image/ab67616d0000b27391b3f8...   \n",
       "2  https://i.scdn.co/image/ab67616d0000b2731981f3...   \n",
       "4  https://i.scdn.co/image/ab67616d0000b2737811bf...   \n",
       "5  https://i.scdn.co/image/ab67616d0000b273b5ea1c...   \n",
       "\n",
       "                                              lyrics  \n",
       "0  [Intro]Ask me if I give a fuck about a clique,...  \n",
       "1  [Intro: Don Kenobi]In due time it feels like t...  \n",
       "2  [Verse]Aye, AyeSmoke a Dutch bluntDon't flick ...  \n",
       "4  [Intro: D.J. Live Wire]Ratatatatatata, boom!Ra...  \n",
       "5  [Intro]Ayy, ayy, uh, uh, uh[Chorus]See, I just...  "
      ]
     },
     "execution_count": 2,
     "metadata": {},
     "output_type": "execute_result"
    }
   ],
   "source": [
    "df = pd.read_pickle(\"final_data.pkl\")\n",
    "df.head()"
   ]
  },
  {
   "cell_type": "code",
   "execution_count": 3,
   "metadata": {},
   "outputs": [],
   "source": [
    "def clean_text(x):\n",
    "    # remove tags such as [Intro] and [Chorus]\n",
    "    cleaned_str = re.sub(r'\\[.*?\\]', '', x)\n",
    "    # fix typos by adding space before capitalized letter \n",
    "    cleaned_str = re.sub(r\"(?<=\\w)([A-Z])\", r\". \\1\", cleaned_str)\n",
    "    # seperate paren lyrics\n",
    "    cleaned_str = re.sub(r\"(\\S)\\)\", r\"\\1). \", cleaned_str)\n",
    "    return cleaned_str"
   ]
  },
  {
   "cell_type": "code",
   "execution_count": 4,
   "metadata": {},
   "outputs": [
    {
     "data": {
      "text/html": [
       "<div>\n",
       "<style scoped>\n",
       "    .dataframe tbody tr th:only-of-type {\n",
       "        vertical-align: middle;\n",
       "    }\n",
       "\n",
       "    .dataframe tbody tr th {\n",
       "        vertical-align: top;\n",
       "    }\n",
       "\n",
       "    .dataframe thead th {\n",
       "        text-align: right;\n",
       "    }\n",
       "</style>\n",
       "<table border=\"1\" class=\"dataframe\">\n",
       "  <thead>\n",
       "    <tr style=\"text-align: right;\">\n",
       "      <th></th>\n",
       "      <th>uri</th>\n",
       "      <th>track</th>\n",
       "      <th>artist</th>\n",
       "      <th>cover image</th>\n",
       "      <th>lyrics</th>\n",
       "      <th>lyrics_cleaned</th>\n",
       "    </tr>\n",
       "  </thead>\n",
       "  <tbody>\n",
       "    <tr>\n",
       "      <th>0</th>\n",
       "      <td>spotify:track:2Vc6NJ9PW9gD9q343XFRKx</td>\n",
       "      <td>Mercury: Retrograde</td>\n",
       "      <td>ghostemane</td>\n",
       "      <td>https://i.scdn.co/image/ab67616d0000b27347fa48...</td>\n",
       "      <td>[Intro]Ask me if I give a fuck about a clique,...</td>\n",
       "      <td>Ask me if I give a fuck about a clique, ayy. A...</td>\n",
       "    </tr>\n",
       "    <tr>\n",
       "      <th>1</th>\n",
       "      <td>spotify:track:7pgJBLVz5VmnL7uGHmRj6p</td>\n",
       "      <td>Pathology</td>\n",
       "      <td>don kenobi</td>\n",
       "      <td>https://i.scdn.co/image/ab67616d0000b27391b3f8...</td>\n",
       "      <td>[Intro: Don Kenobi]In due time it feels like t...</td>\n",
       "      <td>In due time it feels like this all makes sense...</td>\n",
       "    </tr>\n",
       "    <tr>\n",
       "      <th>2</th>\n",
       "      <td>spotify:track:0vSWgAlfpye0WCGeNmuNhy</td>\n",
       "      <td>Symbiote</td>\n",
       "      <td>gizmo</td>\n",
       "      <td>https://i.scdn.co/image/ab67616d0000b2731981f3...</td>\n",
       "      <td>[Verse]Aye, AyeSmoke a Dutch bluntDon't flick ...</td>\n",
       "      <td>Aye, Aye. Smoke a Dutch blunt. Don't flick the...</td>\n",
       "    </tr>\n",
       "    <tr>\n",
       "      <th>4</th>\n",
       "      <td>spotify:track:4RYhSQFFlquCTb8XRMJgFU</td>\n",
       "      <td>Venom</td>\n",
       "      <td>$uicideboy$</td>\n",
       "      <td>https://i.scdn.co/image/ab67616d0000b2737811bf...</td>\n",
       "      <td>[Intro: D.J. Live Wire]Ratatatatatata, boom!Ra...</td>\n",
       "      <td>Ratatatatatata, boom!Ratatatatatata, boom!Two ...</td>\n",
       "    </tr>\n",
       "    <tr>\n",
       "      <th>5</th>\n",
       "      <td>spotify:track:6fsypiJHyWmeINsOLC1cos</td>\n",
       "      <td>Gatteka</td>\n",
       "      <td>ghostemane</td>\n",
       "      <td>https://i.scdn.co/image/ab67616d0000b273b5ea1c...</td>\n",
       "      <td>[Intro]Ayy, ayy, uh, uh, uh[Chorus]See, I just...</td>\n",
       "      <td>Ayy, ayy, uh, uh, uh. See, I just can’t relate...</td>\n",
       "    </tr>\n",
       "  </tbody>\n",
       "</table>\n",
       "</div>"
      ],
      "text/plain": [
       "                                    uri                track       artist  \\\n",
       "0  spotify:track:2Vc6NJ9PW9gD9q343XFRKx  Mercury: Retrograde   ghostemane   \n",
       "1  spotify:track:7pgJBLVz5VmnL7uGHmRj6p            Pathology   don kenobi   \n",
       "2  spotify:track:0vSWgAlfpye0WCGeNmuNhy             Symbiote        gizmo   \n",
       "4  spotify:track:4RYhSQFFlquCTb8XRMJgFU                Venom  $uicideboy$   \n",
       "5  spotify:track:6fsypiJHyWmeINsOLC1cos              Gatteka   ghostemane   \n",
       "\n",
       "                                         cover image  \\\n",
       "0  https://i.scdn.co/image/ab67616d0000b27347fa48...   \n",
       "1  https://i.scdn.co/image/ab67616d0000b27391b3f8...   \n",
       "2  https://i.scdn.co/image/ab67616d0000b2731981f3...   \n",
       "4  https://i.scdn.co/image/ab67616d0000b2737811bf...   \n",
       "5  https://i.scdn.co/image/ab67616d0000b273b5ea1c...   \n",
       "\n",
       "                                              lyrics  \\\n",
       "0  [Intro]Ask me if I give a fuck about a clique,...   \n",
       "1  [Intro: Don Kenobi]In due time it feels like t...   \n",
       "2  [Verse]Aye, AyeSmoke a Dutch bluntDon't flick ...   \n",
       "4  [Intro: D.J. Live Wire]Ratatatatatata, boom!Ra...   \n",
       "5  [Intro]Ayy, ayy, uh, uh, uh[Chorus]See, I just...   \n",
       "\n",
       "                                      lyrics_cleaned  \n",
       "0  Ask me if I give a fuck about a clique, ayy. A...  \n",
       "1  In due time it feels like this all makes sense...  \n",
       "2  Aye, Aye. Smoke a Dutch blunt. Don't flick the...  \n",
       "4  Ratatatatatata, boom!Ratatatatatata, boom!Two ...  \n",
       "5  Ayy, ayy, uh, uh, uh. See, I just can’t relate...  "
      ]
     },
     "execution_count": 4,
     "metadata": {},
     "output_type": "execute_result"
    }
   ],
   "source": [
    "df['lyrics_cleaned'] = df['lyrics'].apply(lambda x: clean_text(x))\n",
    "df.head()"
   ]
  },
  {
   "cell_type": "code",
   "execution_count": 5,
   "metadata": {},
   "outputs": [
    {
     "name": "stdout",
     "output_type": "stream",
     "text": [
      "Ask me if I give a fuck about a clique, ayy. Ask me if I give a fuck about a diss, yuh. Ask me if I give a fuck about fame, yuh. Recently I just don't give a fuck about a thing, yuh, ayy. Ask me if I give a fuck about a diss, ayy. Ask me if I give a fuck about a clique, yuh. Ask me if I give a fuck about fame, yuh. Recently I just don't give a fuck about a thing, yuh. Ayy, I just decided by the grace of the god Poseidon. That you're so dead to me I dug a hole for you to lie in. I'm sick and disowning, all the moments, and the key components. That led me to follow hollow promises from empty monads. It's 11 degrees and I can see my breath so I know I'm breathing. But I got no pulse, I swear to Thelema my heart ain't beating. I better get back to the black hole sun. Leaving my gun, I don't need it for this one. I'm finding the silver lining and I'm mining for hope. Tryna keep my wrists closed. You are toxic. My blood, your lips. You are toxic. My blood, your lips\n"
     ]
    }
   ],
   "source": [
    "test = df.loc[0, 'lyrics_cleaned']\n",
    "print(test)"
   ]
  },
  {
   "cell_type": "code",
   "execution_count": 6,
   "metadata": {},
   "outputs": [],
   "source": [
    "import re\n",
    "from nltk.tokenize import word_tokenize\n",
    "from nltk.corpus import stopwords\n",
    "from nltk.probability import FreqDist\n",
    "from collections import Counter\n",
    "import pandas as pd"
   ]
  },
  {
   "cell_type": "code",
   "execution_count": 7,
   "metadata": {},
   "outputs": [],
   "source": [
    "# source: https://github.com/anasbadawy/Song-Lyrics-Compilation-based-on-Machine-Learning/blob/master/final.py\n",
    "\n",
    "# cleaning Text\n",
    "def clearText(String):\n",
    "    pattern = re.compile(r'\\b(' + r'|'.join(\n",
    "        stopwords.words('english')) + r')\\b\\s*')  # \\b: Matches only the beginning or end of the word.\n",
    "    text = re.sub(r'\\W+', ' ', String)  # for symbol\n",
    "    text = re.sub(r'\\d+', ' ', text)  # digits\n",
    "    text = pattern.sub(' ', text.lower())\n",
    "    text = re.sub(r'\\s+', ' ', text)  # for space\n",
    "    tokenize = word_tokenize(text)\n",
    "    return (tokenize)\n",
    "\n",
    "def summarizedSong(lyrics, n):\n",
    "    tokenize = clearText(lyrics)\n",
    "\n",
    "    fdist = FreqDist(tokenize)\n",
    "    max = fdist.most_common(1)\n",
    "\n",
    "    # convert to weight\n",
    "    for x in fdist:\n",
    "        fdist[x] = round(fdist[x] / max[0][1], 2)\n",
    "\n",
    "    # Product sentence scores\n",
    "    sent2score = {}\n",
    "    sent2score = {sentence: fdist[x] if sentence not in sent2score.keys() else sent2score[sentence] + fdist[x]\n",
    "                  for sentence in re.split('[?.!]', lyrics) for x in sentence.split(' ') if x in fdist.keys()}\n",
    "    top_common = dict(Counter(sent2score).most_common(n)).keys()\n",
    "    return ([*top_common])"
   ]
  },
  {
   "cell_type": "code",
   "execution_count": 8,
   "metadata": {},
   "outputs": [
    {
     "data": {
      "text/plain": [
       "'Ask me if I give a fuck about a diss, yuh. Ask me if I give a fuck about fame, yuh'"
      ]
     },
     "execution_count": 8,
     "metadata": {},
     "output_type": "execute_result"
    }
   ],
   "source": [
    "df['extract_summary'] = df['lyrics_cleaned'].apply(lambda x: \".\".join(summarizedSong(x, 2)).strip())\n",
    "df['extract_summary'][0]"
   ]
  }
 ],
 "metadata": {
  "interpreter": {
   "hash": "7812ea015bdcee6f23a998adcdd2ef97c151c0c241b7b7070987d9313e41299d"
  },
  "kernelspec": {
   "display_name": "Python 3.9.6 64-bit",
   "language": "python",
   "name": "python3"
  },
  "language_info": {
   "codemirror_mode": {
    "name": "ipython",
    "version": 3
   },
   "file_extension": ".py",
   "mimetype": "text/x-python",
   "name": "python",
   "nbconvert_exporter": "python",
   "pygments_lexer": "ipython3",
   "version": "3.9.6"
  },
  "orig_nbformat": 4
 },
 "nbformat": 4,
 "nbformat_minor": 2
}
