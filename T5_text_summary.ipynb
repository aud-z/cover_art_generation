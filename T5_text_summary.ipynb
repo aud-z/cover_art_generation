{
 "cells": [
  {
   "cell_type": "markdown",
   "metadata": {},
   "source": [
    "### Read in pickle file"
   ]
  },
  {
   "cell_type": "code",
   "execution_count": 28,
   "metadata": {},
   "outputs": [],
   "source": [
    "filepath = '../../../downloads/'"
   ]
  },
  {
   "cell_type": "code",
   "execution_count": 29,
   "metadata": {},
   "outputs": [],
   "source": [
    "import pickle as pickle"
   ]
  },
  {
   "cell_type": "code",
   "execution_count": 30,
   "metadata": {},
   "outputs": [],
   "source": [
    "with open(filepath + 'final_data.pkl', 'rb') as f:\n",
    "    df = pickle.load(f)"
   ]
  },
  {
   "cell_type": "code",
   "execution_count": 31,
   "metadata": {},
   "outputs": [
    {
     "data": {
      "text/html": [
       "<div>\n",
       "<style scoped>\n",
       "    .dataframe tbody tr th:only-of-type {\n",
       "        vertical-align: middle;\n",
       "    }\n",
       "\n",
       "    .dataframe tbody tr th {\n",
       "        vertical-align: top;\n",
       "    }\n",
       "\n",
       "    .dataframe thead th {\n",
       "        text-align: right;\n",
       "    }\n",
       "</style>\n",
       "<table border=\"1\" class=\"dataframe\">\n",
       "  <thead>\n",
       "    <tr style=\"text-align: right;\">\n",
       "      <th></th>\n",
       "      <th>uri</th>\n",
       "      <th>track</th>\n",
       "      <th>artist</th>\n",
       "      <th>cover image</th>\n",
       "      <th>lyrics</th>\n",
       "    </tr>\n",
       "  </thead>\n",
       "  <tbody>\n",
       "    <tr>\n",
       "      <th>0</th>\n",
       "      <td>spotify:track:2Vc6NJ9PW9gD9q343XFRKx</td>\n",
       "      <td>Mercury: Retrograde</td>\n",
       "      <td>ghostemane</td>\n",
       "      <td>https://i.scdn.co/image/ab67616d0000b27347fa48...</td>\n",
       "      <td>[Intro]Ask me if I give a fuck about a clique,...</td>\n",
       "    </tr>\n",
       "    <tr>\n",
       "      <th>1</th>\n",
       "      <td>spotify:track:7pgJBLVz5VmnL7uGHmRj6p</td>\n",
       "      <td>Pathology</td>\n",
       "      <td>don kenobi</td>\n",
       "      <td>https://i.scdn.co/image/ab67616d0000b27391b3f8...</td>\n",
       "      <td>[Intro: Don Kenobi]In due time it feels like t...</td>\n",
       "    </tr>\n",
       "    <tr>\n",
       "      <th>2</th>\n",
       "      <td>spotify:track:0vSWgAlfpye0WCGeNmuNhy</td>\n",
       "      <td>Symbiote</td>\n",
       "      <td>gizmo</td>\n",
       "      <td>https://i.scdn.co/image/ab67616d0000b2731981f3...</td>\n",
       "      <td>[Verse]Aye, AyeSmoke a Dutch bluntDon't flick ...</td>\n",
       "    </tr>\n",
       "    <tr>\n",
       "      <th>4</th>\n",
       "      <td>spotify:track:4RYhSQFFlquCTb8XRMJgFU</td>\n",
       "      <td>Venom</td>\n",
       "      <td>$uicideboy$</td>\n",
       "      <td>https://i.scdn.co/image/ab67616d0000b2737811bf...</td>\n",
       "      <td>[Intro: D.J. Live Wire]Ratatatatatata, boom!Ra...</td>\n",
       "    </tr>\n",
       "    <tr>\n",
       "      <th>5</th>\n",
       "      <td>spotify:track:6fsypiJHyWmeINsOLC1cos</td>\n",
       "      <td>Gatteka</td>\n",
       "      <td>ghostemane</td>\n",
       "      <td>https://i.scdn.co/image/ab67616d0000b273b5ea1c...</td>\n",
       "      <td>[Intro]Ayy, ayy, uh, uh, uh[Chorus]See, I just...</td>\n",
       "    </tr>\n",
       "  </tbody>\n",
       "</table>\n",
       "</div>"
      ],
      "text/plain": [
       "                                    uri                track       artist  \\\n",
       "0  spotify:track:2Vc6NJ9PW9gD9q343XFRKx  Mercury: Retrograde   ghostemane   \n",
       "1  spotify:track:7pgJBLVz5VmnL7uGHmRj6p            Pathology   don kenobi   \n",
       "2  spotify:track:0vSWgAlfpye0WCGeNmuNhy             Symbiote        gizmo   \n",
       "4  spotify:track:4RYhSQFFlquCTb8XRMJgFU                Venom  $uicideboy$   \n",
       "5  spotify:track:6fsypiJHyWmeINsOLC1cos              Gatteka   ghostemane   \n",
       "\n",
       "                                         cover image  \\\n",
       "0  https://i.scdn.co/image/ab67616d0000b27347fa48...   \n",
       "1  https://i.scdn.co/image/ab67616d0000b27391b3f8...   \n",
       "2  https://i.scdn.co/image/ab67616d0000b2731981f3...   \n",
       "4  https://i.scdn.co/image/ab67616d0000b2737811bf...   \n",
       "5  https://i.scdn.co/image/ab67616d0000b273b5ea1c...   \n",
       "\n",
       "                                              lyrics  \n",
       "0  [Intro]Ask me if I give a fuck about a clique,...  \n",
       "1  [Intro: Don Kenobi]In due time it feels like t...  \n",
       "2  [Verse]Aye, AyeSmoke a Dutch bluntDon't flick ...  \n",
       "4  [Intro: D.J. Live Wire]Ratatatatatata, boom!Ra...  \n",
       "5  [Intro]Ayy, ayy, uh, uh, uh[Chorus]See, I just...  "
      ]
     },
     "execution_count": 31,
     "metadata": {},
     "output_type": "execute_result"
    }
   ],
   "source": [
    "df.head()"
   ]
  },
  {
   "cell_type": "code",
   "execution_count": 9,
   "metadata": {},
   "outputs": [],
   "source": [
    "data.to_csv('./songs_dataset.csv')"
   ]
  },
  {
   "cell_type": "markdown",
   "metadata": {},
   "source": [
    "### data processing"
   ]
  },
  {
   "cell_type": "code",
   "execution_count": 1,
   "metadata": {},
   "outputs": [],
   "source": [
    "import pandas as pd"
   ]
  },
  {
   "cell_type": "code",
   "execution_count": 2,
   "metadata": {},
   "outputs": [],
   "source": [
    "import re"
   ]
  },
  {
   "cell_type": "code",
   "execution_count": 5,
   "metadata": {},
   "outputs": [],
   "source": [
    "test = df.loc[0, 'lyrics']"
   ]
  },
  {
   "cell_type": "code",
   "execution_count": 6,
   "metadata": {},
   "outputs": [
    {
     "data": {
      "text/plain": [
       "\"[Intro]Ask me if I give a fuck about a clique, ayyAsk me if I give a fuck about a diss, yuhAsk me if I give a fuck about fame, yuhRecently I just don't give a fuck about a thing, yuh, ayy[Chorus]Ask me if I give a fuck about a diss, ayyAsk me if I give a fuck about a clique, yuhAsk me if I give a fuck about fame, yuhRecently I just don't give a fuck about a thing, yuh[Verse]Ayy, I just decided by the grace of the god PoseidonThat you're so dead to me I dug a hole for you to lie inI'm sick and disowning, all the moments, and the key componentsThat led me to follow hollow promises from empty monadsIt's 11 degrees and I can see my breath so I know I'm breathingBut I got no pulse, I swear to Thelema my heart ain't beatingI better get back to the black hole sunLeaving my gun, I don't need it for this oneI'm finding the silver lining and I'm mining for hopeTryna keep my wrists closed[Bridge]You are toxicMy blood, your lipsYou are toxicMy blood, your lips\""
      ]
     },
     "execution_count": 6,
     "metadata": {},
     "output_type": "execute_result"
    }
   ],
   "source": [
    "test"
   ]
  },
  {
   "cell_type": "code",
   "execution_count": 22,
   "metadata": {},
   "outputs": [],
   "source": [
    "def clean_text(x):\n",
    "    # remove tags such as [Intro] and [Chorus]\n",
    "    cleaned_str = re.sub(r'\\[.*?\\]', '', x)\n",
    "    # fix typos by adding space before capitalized letter \n",
    "    cleaned_str = re.sub(r\"(?<=\\w)([A-Z])\", r\" \\1\", cleaned_str)\n",
    "    return cleaned_str"
   ]
  },
  {
   "cell_type": "code",
   "execution_count": 23,
   "metadata": {},
   "outputs": [],
   "source": [
    "df['lyrics_cleaned'] = df['lyrics'].apply(lambda x: clean_text(x))"
   ]
  },
  {
   "cell_type": "code",
   "execution_count": 24,
   "metadata": {},
   "outputs": [
    {
     "name": "stdout",
     "output_type": "stream",
     "text": [
      "Ask me if I give a fuck about a clique, ayy Ask me if I give a fuck about a diss, yuh Ask me if I give a fuck about fame, yuh Recently I just don't give a fuck about a thing, yuh, ayy Ask me if I give a fuck about a diss, ayy Ask me if I give a fuck about a clique, yuh Ask me if I give a fuck about fame, yuh Recently I just don't give a fuck about a thing, yuh Ayy, I just decided by the grace of the god Poseidon That you're so dead to me I dug a hole for you to lie in I'm sick and disowning, all the moments, and the key components That led me to follow hollow promises from empty monads It's 11 degrees and I can see my breath so I know I'm breathing But I got no pulse, I swear to Thelema my heart ain't beating I better get back to the black hole sun Leaving my gun, I don't need it for this one I'm finding the silver lining and I'm mining for hope Tryna keep my wrists closed You are toxic My blood, your lips You are toxic My blood, your lips\n"
     ]
    }
   ],
   "source": [
    "test = df.loc[0, 'lyrics_cleaned']\n",
    "print(test)"
   ]
  },
  {
   "cell_type": "markdown",
   "metadata": {},
   "source": [
    "### Lyrics Summarization Using T5 "
   ]
  },
  {
   "cell_type": "code",
   "execution_count": null,
   "metadata": {},
   "outputs": [],
   "source": [
    "# !pip uninstall transformers\n",
    "# !pip install transformers"
   ]
  },
  {
   "cell_type": "code",
   "execution_count": 11,
   "metadata": {},
   "outputs": [
    {
     "name": "stdout",
     "output_type": "stream",
     "text": [
      "Collecting sentencepiece\n",
      "  Downloading sentencepiece-0.1.96-cp39-cp39-win_amd64.whl (1.1 MB)\n",
      "Installing collected packages: sentencepiece\n",
      "Successfully installed sentencepiece-0.1.96\n"
     ]
    }
   ],
   "source": [
    "# !pip install sentencepiece"
   ]
  },
  {
   "cell_type": "code",
   "execution_count": 7,
   "metadata": {},
   "outputs": [],
   "source": [
    "from transformers import T5Tokenizer, T5Config, T5ForConditionalGeneration"
   ]
  },
  {
   "cell_type": "code",
   "execution_count": 8,
   "metadata": {},
   "outputs": [],
   "source": [
    "t5_model = T5ForConditionalGeneration.from_pretrained('t5-base')"
   ]
  },
  {
   "cell_type": "code",
   "execution_count": 9,
   "metadata": {},
   "outputs": [],
   "source": [
    "tokenizer = T5Tokenizer.from_pretrained('t5-base')"
   ]
  },
  {
   "cell_type": "code",
   "execution_count": 10,
   "metadata": {},
   "outputs": [],
   "source": [
    "def summarize_text(x):\n",
    "    input_str = 'summarize:' + x\n",
    "    input_ids = tokenizer.encode(input_str, return_tensors='pt', max_length=512, truncation=True)\n",
    "    summary = t5_model.generate(input_ids, num_beams=4, no_repeat_ngram_size=2, min_length=10, max_length=20)\n",
    "    summary_str = tokenizer.decode(summary[0], skip_special_tokens=True)\n",
    "    return summary_str"
   ]
  },
  {
   "cell_type": "code",
   "execution_count": 11,
   "metadata": {},
   "outputs": [],
   "source": [
    "test = df.loc[0, 'lyrics']"
   ]
  },
  {
   "cell_type": "code",
   "execution_count": 12,
   "metadata": {},
   "outputs": [],
   "source": [
    "test_summary = summarize_text(test)"
   ]
  },
  {
   "cell_type": "code",
   "execution_count": 20,
   "metadata": {},
   "outputs": [],
   "source": [
    "df['t5_base_summary'] = df['lyrics_cleaned'].apply(lambda x: summarize_text(x))"
   ]
  },
  {
   "cell_type": "code",
   "execution_count": 13,
   "metadata": {},
   "outputs": [
    {
     "data": {
      "text/html": [
       "<div>\n",
       "<style scoped>\n",
       "    .dataframe tbody tr th:only-of-type {\n",
       "        vertical-align: middle;\n",
       "    }\n",
       "\n",
       "    .dataframe tbody tr th {\n",
       "        vertical-align: top;\n",
       "    }\n",
       "\n",
       "    .dataframe thead th {\n",
       "        text-align: right;\n",
       "    }\n",
       "</style>\n",
       "<table border=\"1\" class=\"dataframe\">\n",
       "  <thead>\n",
       "    <tr style=\"text-align: right;\">\n",
       "      <th></th>\n",
       "      <th>uri</th>\n",
       "      <th>track</th>\n",
       "      <th>artist</th>\n",
       "      <th>cover image</th>\n",
       "      <th>lyrics</th>\n",
       "      <th>lyrics_cleaned</th>\n",
       "      <th>t5_base_summary</th>\n",
       "    </tr>\n",
       "  </thead>\n",
       "  <tbody>\n",
       "    <tr>\n",
       "      <th>0</th>\n",
       "      <td>spotify:track:2Vc6NJ9PW9gD9q343XFRKx</td>\n",
       "      <td>Mercury: Retrograde</td>\n",
       "      <td>ghostemane</td>\n",
       "      <td>https://i.scdn.co/image/ab67616d0000b27347fa48...</td>\n",
       "      <td>[Intro]Ask me if I give a fuck about a clique,...</td>\n",
       "      <td>Ask me if I give a fuck about a clique, ayy As...</td>\n",
       "      <td>ayy, ask me if i give fuck about fame,</td>\n",
       "    </tr>\n",
       "    <tr>\n",
       "      <th>1</th>\n",
       "      <td>spotify:track:7pgJBLVz5VmnL7uGHmRj6p</td>\n",
       "      <td>Pathology</td>\n",
       "      <td>don kenobi</td>\n",
       "      <td>https://i.scdn.co/image/ab67616d0000b27391b3f8...</td>\n",
       "      <td>[Intro: Don Kenobi]In due time it feels like t...</td>\n",
       "      <td>In due time it feels like this all makes sense...</td>\n",
       "      <td>in due time it feels like this all makes sense...</td>\n",
       "    </tr>\n",
       "    <tr>\n",
       "      <th>2</th>\n",
       "      <td>spotify:track:0vSWgAlfpye0WCGeNmuNhy</td>\n",
       "      <td>Symbiote</td>\n",
       "      <td>gizmo</td>\n",
       "      <td>https://i.scdn.co/image/ab67616d0000b2731981f3...</td>\n",
       "      <td>[Verse]Aye, AyeSmoke a Dutch bluntDon't flick ...</td>\n",
       "      <td>Aye, Aye Smoke a Dutch blunt Don't flick the b...</td>\n",
       "      <td>i'm a symbiote I murder and move along I</td>\n",
       "    </tr>\n",
       "    <tr>\n",
       "      <th>3</th>\n",
       "      <td>spotify:track:4RYhSQFFlquCTb8XRMJgFU</td>\n",
       "      <td>Venom</td>\n",
       "      <td>$uicideboy$</td>\n",
       "      <td>https://i.scdn.co/image/ab67616d0000b2737811bf...</td>\n",
       "      <td>[Intro: D.J. Live Wire]Ratatatatatata, boom!Ra...</td>\n",
       "      <td>Ratatatatatata, boom!Ratatatatatata, boom!Two ...</td>\n",
       "      <td>cnn's kelly wallace is a motherfucker who</td>\n",
       "    </tr>\n",
       "    <tr>\n",
       "      <th>4</th>\n",
       "      <td>spotify:track:6fsypiJHyWmeINsOLC1cos</td>\n",
       "      <td>Gatteka</td>\n",
       "      <td>ghostemane</td>\n",
       "      <td>https://i.scdn.co/image/ab67616d0000b273b5ea1c...</td>\n",
       "      <td>[Intro]Ayy, ayy, uh, uh, uh[Chorus]See, I just...</td>\n",
       "      <td>Ayy, ayy, uh, uh, uh See, I just can’t relate ...</td>\n",
       "      <td>mephisto has no control of me Rather be wrappe...</td>\n",
       "    </tr>\n",
       "  </tbody>\n",
       "</table>\n",
       "</div>"
      ],
      "text/plain": [
       "                                    uri                track       artist  \\\n",
       "0  spotify:track:2Vc6NJ9PW9gD9q343XFRKx  Mercury: Retrograde   ghostemane   \n",
       "1  spotify:track:7pgJBLVz5VmnL7uGHmRj6p            Pathology   don kenobi   \n",
       "2  spotify:track:0vSWgAlfpye0WCGeNmuNhy             Symbiote        gizmo   \n",
       "3  spotify:track:4RYhSQFFlquCTb8XRMJgFU                Venom  $uicideboy$   \n",
       "4  spotify:track:6fsypiJHyWmeINsOLC1cos              Gatteka   ghostemane   \n",
       "\n",
       "                                         cover image  \\\n",
       "0  https://i.scdn.co/image/ab67616d0000b27347fa48...   \n",
       "1  https://i.scdn.co/image/ab67616d0000b27391b3f8...   \n",
       "2  https://i.scdn.co/image/ab67616d0000b2731981f3...   \n",
       "3  https://i.scdn.co/image/ab67616d0000b2737811bf...   \n",
       "4  https://i.scdn.co/image/ab67616d0000b273b5ea1c...   \n",
       "\n",
       "                                              lyrics  \\\n",
       "0  [Intro]Ask me if I give a fuck about a clique,...   \n",
       "1  [Intro: Don Kenobi]In due time it feels like t...   \n",
       "2  [Verse]Aye, AyeSmoke a Dutch bluntDon't flick ...   \n",
       "3  [Intro: D.J. Live Wire]Ratatatatatata, boom!Ra...   \n",
       "4  [Intro]Ayy, ayy, uh, uh, uh[Chorus]See, I just...   \n",
       "\n",
       "                                      lyrics_cleaned  \\\n",
       "0  Ask me if I give a fuck about a clique, ayy As...   \n",
       "1  In due time it feels like this all makes sense...   \n",
       "2  Aye, Aye Smoke a Dutch blunt Don't flick the b...   \n",
       "3  Ratatatatatata, boom!Ratatatatatata, boom!Two ...   \n",
       "4  Ayy, ayy, uh, uh, uh See, I just can’t relate ...   \n",
       "\n",
       "                                     t5_base_summary  \n",
       "0             ayy, ask me if i give fuck about fame,  \n",
       "1  in due time it feels like this all makes sense...  \n",
       "2           i'm a symbiote I murder and move along I  \n",
       "3          cnn's kelly wallace is a motherfucker who  \n",
       "4  mephisto has no control of me Rather be wrappe...  "
      ]
     },
     "execution_count": 13,
     "metadata": {},
     "output_type": "execute_result"
    }
   ],
   "source": [
    "df.head()"
   ]
  },
  {
   "cell_type": "code",
   "execution_count": 14,
   "metadata": {},
   "outputs": [],
   "source": [
    "df.to_csv('./songs_dataset_w_summary.csv', index=False)"
   ]
  },
  {
   "cell_type": "code",
   "execution_count": null,
   "metadata": {},
   "outputs": [],
   "source": []
  }
 ],
 "metadata": {
  "kernelspec": {
   "display_name": "Python [conda env:artml]",
   "language": "python",
   "name": "conda-env-artml-py"
  },
  "language_info": {
   "codemirror_mode": {
    "name": "ipython",
    "version": 3
   },
   "file_extension": ".py",
   "mimetype": "text/x-python",
   "name": "python",
   "nbconvert_exporter": "python",
   "pygments_lexer": "ipython3",
   "version": "3.9.7"
  }
 },
 "nbformat": 4,
 "nbformat_minor": 5
}
