{
  "nbformat": 4,
  "nbformat_minor": 0,
  "metadata": {
    "colab": {
      "name": "lyric_similarity.ipynb",
      "provenance": [],
      "mount_file_id": "1OyltIq5JrZ6345l-EIZ8jex6ySa3bs6p",
      "authorship_tag": "ABX9TyMOo3onih/7wRrerM8A71eB",
      "include_colab_link": true
    },
    "kernelspec": {
      "name": "python3",
      "display_name": "Python 3"
    },
    "language_info": {
      "name": "python"
    }
  },
  "cells": [
    {
      "cell_type": "markdown",
      "metadata": {
        "id": "view-in-github",
        "colab_type": "text"
      },
      "source": [
        "<a href=\"https://colab.research.google.com/github/aud-z/cover_art_generation/blob/master/lyric_similarity.ipynb\" target=\"_parent\"><img src=\"https://colab.research.google.com/assets/colab-badge.svg\" alt=\"Open In Colab\"/></a>"
      ]
    },
    {
      "cell_type": "code",
      "source": [
        "filepath = '/content/drive/MyDrive/Art_ML/songs_dataset_w_extract_summary.csv'"
      ],
      "metadata": {
        "id": "qGqUg03gr3WP"
      },
      "execution_count": 5,
      "outputs": []
    },
    {
      "cell_type": "code",
      "source": [
        "import pandas as pd\n",
        "import nltk\n",
        "import re \n",
        "import numpy as np"
      ],
      "metadata": {
        "id": "WDorbIEqr3RX"
      },
      "execution_count": 43,
      "outputs": []
    },
    {
      "cell_type": "code",
      "source": [
        "df = pd.read_csv(filepath)"
      ],
      "metadata": {
        "id": "aeNwPvhFr3QH"
      },
      "execution_count": 9,
      "outputs": []
    },
    {
      "cell_type": "code",
      "source": [
        "df.head()"
      ],
      "metadata": {
        "colab": {
          "base_uri": "https://localhost:8080/",
          "height": 337
        },
        "id": "l9OjiW-ar3M3",
        "outputId": "71313841-2604-4af4-8b6f-b0db99135b99"
      },
      "execution_count": 10,
      "outputs": [
        {
          "output_type": "execute_result",
          "data": {
            "text/html": [
              "\n",
              "  <div id=\"df-488d2900-e34b-4440-820f-a2c225135e6e\">\n",
              "    <div class=\"colab-df-container\">\n",
              "      <div>\n",
              "<style scoped>\n",
              "    .dataframe tbody tr th:only-of-type {\n",
              "        vertical-align: middle;\n",
              "    }\n",
              "\n",
              "    .dataframe tbody tr th {\n",
              "        vertical-align: top;\n",
              "    }\n",
              "\n",
              "    .dataframe thead th {\n",
              "        text-align: right;\n",
              "    }\n",
              "</style>\n",
              "<table border=\"1\" class=\"dataframe\">\n",
              "  <thead>\n",
              "    <tr style=\"text-align: right;\">\n",
              "      <th></th>\n",
              "      <th>uri</th>\n",
              "      <th>track</th>\n",
              "      <th>artist</th>\n",
              "      <th>cover image</th>\n",
              "      <th>lyrics</th>\n",
              "      <th>lyrics_cleaned</th>\n",
              "      <th>extract_summary</th>\n",
              "    </tr>\n",
              "  </thead>\n",
              "  <tbody>\n",
              "    <tr>\n",
              "      <th>0</th>\n",
              "      <td>spotify:track:2Vc6NJ9PW9gD9q343XFRKx</td>\n",
              "      <td>Mercury: Retrograde</td>\n",
              "      <td>ghostemane</td>\n",
              "      <td>https://i.scdn.co/image/ab67616d0000b27347fa48...</td>\n",
              "      <td>[Intro]Ask me if I give a fuck about a clique,...</td>\n",
              "      <td>Ask me if I give a fuck about a clique, ayy. A...</td>\n",
              "      <td>Ask me if I give a fuck about a diss, yuh. Ask...</td>\n",
              "    </tr>\n",
              "    <tr>\n",
              "      <th>1</th>\n",
              "      <td>spotify:track:7pgJBLVz5VmnL7uGHmRj6p</td>\n",
              "      <td>Pathology</td>\n",
              "      <td>don kenobi</td>\n",
              "      <td>https://i.scdn.co/image/ab67616d0000b27391b3f8...</td>\n",
              "      <td>[Intro: Don Kenobi]In due time it feels like t...</td>\n",
              "      <td>In due time it feels like this all makes sense...</td>\n",
              "      <td>I’m tired of change, life has been weighing me...</td>\n",
              "    </tr>\n",
              "    <tr>\n",
              "      <th>2</th>\n",
              "      <td>spotify:track:0vSWgAlfpye0WCGeNmuNhy</td>\n",
              "      <td>Symbiote</td>\n",
              "      <td>gizmo</td>\n",
              "      <td>https://i.scdn.co/image/ab67616d0000b2731981f3...</td>\n",
              "      <td>[Verse]Aye, AyeSmoke a Dutch bluntDon't flick ...</td>\n",
              "      <td>Aye, Aye. Smoke a Dutch blunt. Don't flick the...</td>\n",
              "      <td>Giz I didn't fuckin mean it. Giz I didn't mean...</td>\n",
              "    </tr>\n",
              "    <tr>\n",
              "      <th>3</th>\n",
              "      <td>spotify:track:4RYhSQFFlquCTb8XRMJgFU</td>\n",
              "      <td>Venom</td>\n",
              "      <td>$uicideboy$</td>\n",
              "      <td>https://i.scdn.co/image/ab67616d0000b2737811bf...</td>\n",
              "      <td>[Intro: D.J. Live Wire]Ratatatatatata, boom!Ra...</td>\n",
              "      <td>Ratatatatatata, boom!Ratatatatatata, boom!Two ...</td>\n",
              "      <td>Ratatatatatata, boom. And now we talking thric...</td>\n",
              "    </tr>\n",
              "    <tr>\n",
              "      <th>4</th>\n",
              "      <td>spotify:track:6fsypiJHyWmeINsOLC1cos</td>\n",
              "      <td>Gatteka</td>\n",
              "      <td>ghostemane</td>\n",
              "      <td>https://i.scdn.co/image/ab67616d0000b273b5ea1c...</td>\n",
              "      <td>[Intro]Ayy, ayy, uh, uh, uh[Chorus]See, I just...</td>\n",
              "      <td>Ayy, ayy, uh, uh, uh. See, I just can’t relate...</td>\n",
              "      <td>See, I just can’t relate. I can’t relate, I ca...</td>\n",
              "    </tr>\n",
              "  </tbody>\n",
              "</table>\n",
              "</div>\n",
              "      <button class=\"colab-df-convert\" onclick=\"convertToInteractive('df-488d2900-e34b-4440-820f-a2c225135e6e')\"\n",
              "              title=\"Convert this dataframe to an interactive table.\"\n",
              "              style=\"display:none;\">\n",
              "        \n",
              "  <svg xmlns=\"http://www.w3.org/2000/svg\" height=\"24px\"viewBox=\"0 0 24 24\"\n",
              "       width=\"24px\">\n",
              "    <path d=\"M0 0h24v24H0V0z\" fill=\"none\"/>\n",
              "    <path d=\"M18.56 5.44l.94 2.06.94-2.06 2.06-.94-2.06-.94-.94-2.06-.94 2.06-2.06.94zm-11 1L8.5 8.5l.94-2.06 2.06-.94-2.06-.94L8.5 2.5l-.94 2.06-2.06.94zm10 10l.94 2.06.94-2.06 2.06-.94-2.06-.94-.94-2.06-.94 2.06-2.06.94z\"/><path d=\"M17.41 7.96l-1.37-1.37c-.4-.4-.92-.59-1.43-.59-.52 0-1.04.2-1.43.59L10.3 9.45l-7.72 7.72c-.78.78-.78 2.05 0 2.83L4 21.41c.39.39.9.59 1.41.59.51 0 1.02-.2 1.41-.59l7.78-7.78 2.81-2.81c.8-.78.8-2.07 0-2.86zM5.41 20L4 18.59l7.72-7.72 1.47 1.35L5.41 20z\"/>\n",
              "  </svg>\n",
              "      </button>\n",
              "      \n",
              "  <style>\n",
              "    .colab-df-container {\n",
              "      display:flex;\n",
              "      flex-wrap:wrap;\n",
              "      gap: 12px;\n",
              "    }\n",
              "\n",
              "    .colab-df-convert {\n",
              "      background-color: #E8F0FE;\n",
              "      border: none;\n",
              "      border-radius: 50%;\n",
              "      cursor: pointer;\n",
              "      display: none;\n",
              "      fill: #1967D2;\n",
              "      height: 32px;\n",
              "      padding: 0 0 0 0;\n",
              "      width: 32px;\n",
              "    }\n",
              "\n",
              "    .colab-df-convert:hover {\n",
              "      background-color: #E2EBFA;\n",
              "      box-shadow: 0px 1px 2px rgba(60, 64, 67, 0.3), 0px 1px 3px 1px rgba(60, 64, 67, 0.15);\n",
              "      fill: #174EA6;\n",
              "    }\n",
              "\n",
              "    [theme=dark] .colab-df-convert {\n",
              "      background-color: #3B4455;\n",
              "      fill: #D2E3FC;\n",
              "    }\n",
              "\n",
              "    [theme=dark] .colab-df-convert:hover {\n",
              "      background-color: #434B5C;\n",
              "      box-shadow: 0px 1px 3px 1px rgba(0, 0, 0, 0.15);\n",
              "      filter: drop-shadow(0px 1px 2px rgba(0, 0, 0, 0.3));\n",
              "      fill: #FFFFFF;\n",
              "    }\n",
              "  </style>\n",
              "\n",
              "      <script>\n",
              "        const buttonEl =\n",
              "          document.querySelector('#df-488d2900-e34b-4440-820f-a2c225135e6e button.colab-df-convert');\n",
              "        buttonEl.style.display =\n",
              "          google.colab.kernel.accessAllowed ? 'block' : 'none';\n",
              "\n",
              "        async function convertToInteractive(key) {\n",
              "          const element = document.querySelector('#df-488d2900-e34b-4440-820f-a2c225135e6e');\n",
              "          const dataTable =\n",
              "            await google.colab.kernel.invokeFunction('convertToInteractive',\n",
              "                                                     [key], {});\n",
              "          if (!dataTable) return;\n",
              "\n",
              "          const docLinkHtml = 'Like what you see? Visit the ' +\n",
              "            '<a target=\"_blank\" href=https://colab.research.google.com/notebooks/data_table.ipynb>data table notebook</a>'\n",
              "            + ' to learn more about interactive tables.';\n",
              "          element.innerHTML = '';\n",
              "          dataTable['output_type'] = 'display_data';\n",
              "          await google.colab.output.renderOutput(dataTable, element);\n",
              "          const docLink = document.createElement('div');\n",
              "          docLink.innerHTML = docLinkHtml;\n",
              "          element.appendChild(docLink);\n",
              "        }\n",
              "      </script>\n",
              "    </div>\n",
              "  </div>\n",
              "  "
            ],
            "text/plain": [
              "                                    uri  ...                                    extract_summary\n",
              "0  spotify:track:2Vc6NJ9PW9gD9q343XFRKx  ...  Ask me if I give a fuck about a diss, yuh. Ask...\n",
              "1  spotify:track:7pgJBLVz5VmnL7uGHmRj6p  ...  I’m tired of change, life has been weighing me...\n",
              "2  spotify:track:0vSWgAlfpye0WCGeNmuNhy  ...  Giz I didn't fuckin mean it. Giz I didn't mean...\n",
              "3  spotify:track:4RYhSQFFlquCTb8XRMJgFU  ...  Ratatatatatata, boom. And now we talking thric...\n",
              "4  spotify:track:6fsypiJHyWmeINsOLC1cos  ...  See, I just can’t relate. I can’t relate, I ca...\n",
              "\n",
              "[5 rows x 7 columns]"
            ]
          },
          "metadata": {},
          "execution_count": 10
        }
      ]
    },
    {
      "cell_type": "code",
      "source": [
        "df.drop_duplicates(subset=['uri'], inplace=True)"
      ],
      "metadata": {
        "id": "dlV95YMz1lLE"
      },
      "execution_count": 116,
      "outputs": []
    },
    {
      "cell_type": "code",
      "source": [
        "df.shape"
      ],
      "metadata": {
        "colab": {
          "base_uri": "https://localhost:8080/"
        },
        "id": "MqCCc75L1pO6",
        "outputId": "d119ab39-17ee-4bf6-fca7-5c93e330d7ca"
      },
      "execution_count": 117,
      "outputs": [
        {
          "output_type": "execute_result",
          "data": {
            "text/plain": [
              "(8109, 7)"
            ]
          },
          "metadata": {},
          "execution_count": 117
        }
      ]
    },
    {
      "cell_type": "code",
      "source": [
        "# some songs don't have lyrics. We will exclude them from this analysis\n",
        "df[df['lyrics_cleaned'].isna()]"
      ],
      "metadata": {
        "colab": {
          "base_uri": "https://localhost:8080/",
          "height": 1000
        },
        "id": "JLBQO-3FsJWn",
        "outputId": "20b12fbd-d08e-4ebb-a5f4-b8dd66632ae0"
      },
      "execution_count": 118,
      "outputs": [
        {
          "output_type": "execute_result",
          "data": {
            "text/html": [
              "\n",
              "  <div id=\"df-4817245e-c07f-4911-bb88-770b2d1ea603\">\n",
              "    <div class=\"colab-df-container\">\n",
              "      <div>\n",
              "<style scoped>\n",
              "    .dataframe tbody tr th:only-of-type {\n",
              "        vertical-align: middle;\n",
              "    }\n",
              "\n",
              "    .dataframe tbody tr th {\n",
              "        vertical-align: top;\n",
              "    }\n",
              "\n",
              "    .dataframe thead th {\n",
              "        text-align: right;\n",
              "    }\n",
              "</style>\n",
              "<table border=\"1\" class=\"dataframe\">\n",
              "  <thead>\n",
              "    <tr style=\"text-align: right;\">\n",
              "      <th></th>\n",
              "      <th>uri</th>\n",
              "      <th>track</th>\n",
              "      <th>artist</th>\n",
              "      <th>cover image</th>\n",
              "      <th>lyrics</th>\n",
              "      <th>lyrics_cleaned</th>\n",
              "      <th>extract_summary</th>\n",
              "    </tr>\n",
              "  </thead>\n",
              "  <tbody>\n",
              "    <tr>\n",
              "      <th>1178</th>\n",
              "      <td>spotify:track:7bw3BR47CySVMrzZEuXsYl</td>\n",
              "      <td>METHADONE</td>\n",
              "      <td>deep october</td>\n",
              "      <td>https://i.scdn.co/image/ab67616d0000b273941cbb...</td>\n",
              "      <td>[To Be Transcribed]</td>\n",
              "      <td>NaN</td>\n",
              "      <td>NaN</td>\n",
              "    </tr>\n",
              "    <tr>\n",
              "      <th>1797</th>\n",
              "      <td>spotify:track:6kBAlRKTukxlwmp0u8mde4</td>\n",
              "      <td>DMT</td>\n",
              "      <td>xxyyxx</td>\n",
              "      <td>https://i.scdn.co/image/ab67616d0000b2732487ef...</td>\n",
              "      <td>[Instrumental Track]</td>\n",
              "      <td>NaN</td>\n",
              "      <td>NaN</td>\n",
              "    </tr>\n",
              "    <tr>\n",
              "      <th>1807</th>\n",
              "      <td>spotify:track:6qMVcqQtXBUsR1kQHIa2Qi</td>\n",
              "      <td>Ave Plague</td>\n",
              "      <td>king plague</td>\n",
              "      <td>https://i.scdn.co/image/ab67616d0000b273f3f2db...</td>\n",
              "      <td>[Music]</td>\n",
              "      <td>NaN</td>\n",
              "      <td>NaN</td>\n",
              "    </tr>\n",
              "    <tr>\n",
              "      <th>1821</th>\n",
              "      <td>spotify:track:7rGI2jhDcnnfSJXXTpGDCV</td>\n",
              "      <td>Transcend</td>\n",
              "      <td>klimeks</td>\n",
              "      <td>https://i.scdn.co/image/ab67616d0000b273d2945e...</td>\n",
              "      <td>[Non-Lyrical Vocals]</td>\n",
              "      <td>NaN</td>\n",
              "      <td>NaN</td>\n",
              "    </tr>\n",
              "    <tr>\n",
              "      <th>1831</th>\n",
              "      <td>spotify:track:2zbMHMeXUtcEUQzmRmOUra</td>\n",
              "      <td>Quatrain</td>\n",
              "      <td>sorrow</td>\n",
              "      <td>https://i.scdn.co/image/ab67616d0000b27306f099...</td>\n",
              "      <td>[Unintelligible]</td>\n",
              "      <td>NaN</td>\n",
              "      <td>NaN</td>\n",
              "    </tr>\n",
              "    <tr>\n",
              "      <th>1832</th>\n",
              "      <td>spotify:track:7xPZePEWn8gNn4IgPz4fHn</td>\n",
              "      <td>Cherie</td>\n",
              "      <td>sorrow</td>\n",
              "      <td>https://i.scdn.co/image/ab67616d0000b27306f099...</td>\n",
              "      <td>[Unintelligible]</td>\n",
              "      <td>NaN</td>\n",
              "      <td>NaN</td>\n",
              "    </tr>\n",
              "    <tr>\n",
              "      <th>1841</th>\n",
              "      <td>spotify:track:6EWrC23P3ZasH7cY2vxabe</td>\n",
              "      <td>First Dates</td>\n",
              "      <td>blvck ceiling</td>\n",
              "      <td>https://i.scdn.co/image/ab67616d0000b2734a957f...</td>\n",
              "      <td>[Intro][?][Instrumental][?]</td>\n",
              "      <td>NaN</td>\n",
              "      <td>NaN</td>\n",
              "    </tr>\n",
              "    <tr>\n",
              "      <th>1842</th>\n",
              "      <td>spotify:track:46IsPPQjLoFpmrzmnBal26</td>\n",
              "      <td>Choppa</td>\n",
              "      <td>blvck ceiling</td>\n",
              "      <td>https://i.scdn.co/image/ab67616d0000b2734a957f...</td>\n",
              "      <td>[Intro][?][Instrumental]</td>\n",
              "      <td>NaN</td>\n",
              "      <td>NaN</td>\n",
              "    </tr>\n",
              "    <tr>\n",
              "      <th>1843</th>\n",
              "      <td>spotify:track:526HQ5aYZu4LhBTUerx0w5</td>\n",
              "      <td>First Blood</td>\n",
              "      <td>blvck ceiling</td>\n",
              "      <td>https://i.scdn.co/image/ab67616d0000b2734a957f...</td>\n",
              "      <td>[Intro][Instrumental]</td>\n",
              "      <td>NaN</td>\n",
              "      <td>NaN</td>\n",
              "    </tr>\n",
              "    <tr>\n",
              "      <th>1844</th>\n",
              "      <td>spotify:track:10ugMmxlkh8eLcvLgovDY9</td>\n",
              "      <td>All Wet</td>\n",
              "      <td>blvck ceiling</td>\n",
              "      <td>https://i.scdn.co/image/ab67616d0000b2734a957f...</td>\n",
              "      <td>[Intro][Instrumental]</td>\n",
              "      <td>NaN</td>\n",
              "      <td>NaN</td>\n",
              "    </tr>\n",
              "    <tr>\n",
              "      <th>1845</th>\n",
              "      <td>spotify:track:265G7XyAOuB2DFOurO6coA</td>\n",
              "      <td>Icarus</td>\n",
              "      <td>blvck ceiling</td>\n",
              "      <td>https://i.scdn.co/image/ab67616d0000b273e30532...</td>\n",
              "      <td>[Intro]</td>\n",
              "      <td>NaN</td>\n",
              "      <td>NaN</td>\n",
              "    </tr>\n",
              "    <tr>\n",
              "      <th>1849</th>\n",
              "      <td>spotify:track:1IXXvsltmH5ufBOIrJ6KJh</td>\n",
              "      <td>Under the Stares</td>\n",
              "      <td>blvck ceiling</td>\n",
              "      <td>https://i.scdn.co/image/ab67616d0000b2730e2e3f...</td>\n",
              "      <td>[Intro]</td>\n",
              "      <td>NaN</td>\n",
              "      <td>NaN</td>\n",
              "    </tr>\n",
              "    <tr>\n",
              "      <th>1852</th>\n",
              "      <td>spotify:track:4xlcfKQivAzkbfliZ9MuQQ</td>\n",
              "      <td>7upinthenite</td>\n",
              "      <td>blvck ceiling</td>\n",
              "      <td>https://i.scdn.co/image/ab67616d0000b273e18097...</td>\n",
              "      <td>[Intro][Instrumental]</td>\n",
              "      <td>NaN</td>\n",
              "      <td>NaN</td>\n",
              "    </tr>\n",
              "    <tr>\n",
              "      <th>1853</th>\n",
              "      <td>spotify:track:2PsIVzj8xAgg6WnOqA2Btd</td>\n",
              "      <td>Winter WAR</td>\n",
              "      <td>blvck ceiling</td>\n",
              "      <td>https://i.scdn.co/image/ab67616d0000b273e18097...</td>\n",
              "      <td>[Intro][Instrumental]</td>\n",
              "      <td>NaN</td>\n",
              "      <td>NaN</td>\n",
              "    </tr>\n",
              "    <tr>\n",
              "      <th>1864</th>\n",
              "      <td>spotify:track:7DeiVKUOVPlntxiAsBWcYb</td>\n",
              "      <td>Cosmetic</td>\n",
              "      <td>blvck ceiling</td>\n",
              "      <td>https://i.scdn.co/image/ab67616d0000b273ca84fd...</td>\n",
              "      <td>[?]</td>\n",
              "      <td>NaN</td>\n",
              "      <td>NaN</td>\n",
              "    </tr>\n",
              "    <tr>\n",
              "      <th>1865</th>\n",
              "      <td>spotify:track:6mpH3zRLnJpdVux1SFnbBe</td>\n",
              "      <td>Clapping at Tears</td>\n",
              "      <td>blvck ceiling</td>\n",
              "      <td>https://i.scdn.co/image/ab67616d0000b273871f4a...</td>\n",
              "      <td>[Intro]</td>\n",
              "      <td>NaN</td>\n",
              "      <td>NaN</td>\n",
              "    </tr>\n",
              "    <tr>\n",
              "      <th>1867</th>\n",
              "      <td>spotify:track:0P4p6syTp3tGvNGkxvmvb7</td>\n",
              "      <td>Empty Forest</td>\n",
              "      <td>blvck ceiling</td>\n",
              "      <td>https://i.scdn.co/image/ab67616d0000b273871f4a...</td>\n",
              "      <td>[Intro]</td>\n",
              "      <td>NaN</td>\n",
              "      <td>NaN</td>\n",
              "    </tr>\n",
              "    <tr>\n",
              "      <th>1868</th>\n",
              "      <td>spotify:track:0Mzepct6W2VADgAmMsQA7q</td>\n",
              "      <td>Leader OV the Pack</td>\n",
              "      <td>blvck ceiling</td>\n",
              "      <td>https://i.scdn.co/image/ab67616d0000b273871f4a...</td>\n",
              "      <td>[Intro]</td>\n",
              "      <td>NaN</td>\n",
              "      <td>NaN</td>\n",
              "    </tr>\n",
              "    <tr>\n",
              "      <th>1871</th>\n",
              "      <td>spotify:track:0iCxoVGB01iGIBgyFgovyt</td>\n",
              "      <td>Somewhere Disconnected</td>\n",
              "      <td>blvck ceiling</td>\n",
              "      <td>https://i.scdn.co/image/ab67616d0000b273b41190...</td>\n",
              "      <td>[Intro][Instrumental]</td>\n",
              "      <td>NaN</td>\n",
              "      <td>NaN</td>\n",
              "    </tr>\n",
              "    <tr>\n",
              "      <th>1873</th>\n",
              "      <td>spotify:track:377Rrlob4oXIe3nO2ELEvN</td>\n",
              "      <td>Runner</td>\n",
              "      <td>blvck ceiling</td>\n",
              "      <td>https://i.scdn.co/image/ab67616d0000b273ee69ad...</td>\n",
              "      <td>[?]</td>\n",
              "      <td>NaN</td>\n",
              "      <td>NaN</td>\n",
              "    </tr>\n",
              "    <tr>\n",
              "      <th>6991</th>\n",
              "      <td>spotify:track:0vVNNJKHHJbO6gAa09eJvh</td>\n",
              "      <td>Severe Hematidrosis Causing Feral Indominusmor...</td>\n",
              "      <td>hxnjv</td>\n",
              "      <td>https://i.scdn.co/image/ab67616d0000b2736fe982...</td>\n",
              "      <td>[Instrumental w/ Growls]</td>\n",
              "      <td>NaN</td>\n",
              "      <td>NaN</td>\n",
              "    </tr>\n",
              "    <tr>\n",
              "      <th>7077</th>\n",
              "      <td>spotify:track:4RgpXBUQKcDISEMGGuM6Op</td>\n",
              "      <td>CHOPSTICK</td>\n",
              "      <td>83hades</td>\n",
              "      <td>https://i.scdn.co/image/ab67616d0000b273c3b7a9...</td>\n",
              "      <td>[Verse]</td>\n",
              "      <td>NaN</td>\n",
              "      <td>NaN</td>\n",
              "    </tr>\n",
              "    <tr>\n",
              "      <th>8493</th>\n",
              "      <td>spotify:track:2q8PsdkYu597s9hMrdjtCN</td>\n",
              "      <td>Hoe Kan Het Nou</td>\n",
              "      <td>architrackz</td>\n",
              "      <td>https://i.scdn.co/image/ab67616d0000b2732210a6...</td>\n",
              "      <td>[Songtekst van \"Hoe Kan Het Nou ft. WAWA\"]</td>\n",
              "      <td>NaN</td>\n",
              "      <td>NaN</td>\n",
              "    </tr>\n",
              "  </tbody>\n",
              "</table>\n",
              "</div>\n",
              "      <button class=\"colab-df-convert\" onclick=\"convertToInteractive('df-4817245e-c07f-4911-bb88-770b2d1ea603')\"\n",
              "              title=\"Convert this dataframe to an interactive table.\"\n",
              "              style=\"display:none;\">\n",
              "        \n",
              "  <svg xmlns=\"http://www.w3.org/2000/svg\" height=\"24px\"viewBox=\"0 0 24 24\"\n",
              "       width=\"24px\">\n",
              "    <path d=\"M0 0h24v24H0V0z\" fill=\"none\"/>\n",
              "    <path d=\"M18.56 5.44l.94 2.06.94-2.06 2.06-.94-2.06-.94-.94-2.06-.94 2.06-2.06.94zm-11 1L8.5 8.5l.94-2.06 2.06-.94-2.06-.94L8.5 2.5l-.94 2.06-2.06.94zm10 10l.94 2.06.94-2.06 2.06-.94-2.06-.94-.94-2.06-.94 2.06-2.06.94z\"/><path d=\"M17.41 7.96l-1.37-1.37c-.4-.4-.92-.59-1.43-.59-.52 0-1.04.2-1.43.59L10.3 9.45l-7.72 7.72c-.78.78-.78 2.05 0 2.83L4 21.41c.39.39.9.59 1.41.59.51 0 1.02-.2 1.41-.59l7.78-7.78 2.81-2.81c.8-.78.8-2.07 0-2.86zM5.41 20L4 18.59l7.72-7.72 1.47 1.35L5.41 20z\"/>\n",
              "  </svg>\n",
              "      </button>\n",
              "      \n",
              "  <style>\n",
              "    .colab-df-container {\n",
              "      display:flex;\n",
              "      flex-wrap:wrap;\n",
              "      gap: 12px;\n",
              "    }\n",
              "\n",
              "    .colab-df-convert {\n",
              "      background-color: #E8F0FE;\n",
              "      border: none;\n",
              "      border-radius: 50%;\n",
              "      cursor: pointer;\n",
              "      display: none;\n",
              "      fill: #1967D2;\n",
              "      height: 32px;\n",
              "      padding: 0 0 0 0;\n",
              "      width: 32px;\n",
              "    }\n",
              "\n",
              "    .colab-df-convert:hover {\n",
              "      background-color: #E2EBFA;\n",
              "      box-shadow: 0px 1px 2px rgba(60, 64, 67, 0.3), 0px 1px 3px 1px rgba(60, 64, 67, 0.15);\n",
              "      fill: #174EA6;\n",
              "    }\n",
              "\n",
              "    [theme=dark] .colab-df-convert {\n",
              "      background-color: #3B4455;\n",
              "      fill: #D2E3FC;\n",
              "    }\n",
              "\n",
              "    [theme=dark] .colab-df-convert:hover {\n",
              "      background-color: #434B5C;\n",
              "      box-shadow: 0px 1px 3px 1px rgba(0, 0, 0, 0.15);\n",
              "      filter: drop-shadow(0px 1px 2px rgba(0, 0, 0, 0.3));\n",
              "      fill: #FFFFFF;\n",
              "    }\n",
              "  </style>\n",
              "\n",
              "      <script>\n",
              "        const buttonEl =\n",
              "          document.querySelector('#df-4817245e-c07f-4911-bb88-770b2d1ea603 button.colab-df-convert');\n",
              "        buttonEl.style.display =\n",
              "          google.colab.kernel.accessAllowed ? 'block' : 'none';\n",
              "\n",
              "        async function convertToInteractive(key) {\n",
              "          const element = document.querySelector('#df-4817245e-c07f-4911-bb88-770b2d1ea603');\n",
              "          const dataTable =\n",
              "            await google.colab.kernel.invokeFunction('convertToInteractive',\n",
              "                                                     [key], {});\n",
              "          if (!dataTable) return;\n",
              "\n",
              "          const docLinkHtml = 'Like what you see? Visit the ' +\n",
              "            '<a target=\"_blank\" href=https://colab.research.google.com/notebooks/data_table.ipynb>data table notebook</a>'\n",
              "            + ' to learn more about interactive tables.';\n",
              "          element.innerHTML = '';\n",
              "          dataTable['output_type'] = 'display_data';\n",
              "          await google.colab.output.renderOutput(dataTable, element);\n",
              "          const docLink = document.createElement('div');\n",
              "          docLink.innerHTML = docLinkHtml;\n",
              "          element.appendChild(docLink);\n",
              "        }\n",
              "      </script>\n",
              "    </div>\n",
              "  </div>\n",
              "  "
            ],
            "text/plain": [
              "                                       uri  ... extract_summary\n",
              "1178  spotify:track:7bw3BR47CySVMrzZEuXsYl  ...             NaN\n",
              "1797  spotify:track:6kBAlRKTukxlwmp0u8mde4  ...             NaN\n",
              "1807  spotify:track:6qMVcqQtXBUsR1kQHIa2Qi  ...             NaN\n",
              "1821  spotify:track:7rGI2jhDcnnfSJXXTpGDCV  ...             NaN\n",
              "1831  spotify:track:2zbMHMeXUtcEUQzmRmOUra  ...             NaN\n",
              "1832  spotify:track:7xPZePEWn8gNn4IgPz4fHn  ...             NaN\n",
              "1841  spotify:track:6EWrC23P3ZasH7cY2vxabe  ...             NaN\n",
              "1842  spotify:track:46IsPPQjLoFpmrzmnBal26  ...             NaN\n",
              "1843  spotify:track:526HQ5aYZu4LhBTUerx0w5  ...             NaN\n",
              "1844  spotify:track:10ugMmxlkh8eLcvLgovDY9  ...             NaN\n",
              "1845  spotify:track:265G7XyAOuB2DFOurO6coA  ...             NaN\n",
              "1849  spotify:track:1IXXvsltmH5ufBOIrJ6KJh  ...             NaN\n",
              "1852  spotify:track:4xlcfKQivAzkbfliZ9MuQQ  ...             NaN\n",
              "1853  spotify:track:2PsIVzj8xAgg6WnOqA2Btd  ...             NaN\n",
              "1864  spotify:track:7DeiVKUOVPlntxiAsBWcYb  ...             NaN\n",
              "1865  spotify:track:6mpH3zRLnJpdVux1SFnbBe  ...             NaN\n",
              "1867  spotify:track:0P4p6syTp3tGvNGkxvmvb7  ...             NaN\n",
              "1868  spotify:track:0Mzepct6W2VADgAmMsQA7q  ...             NaN\n",
              "1871  spotify:track:0iCxoVGB01iGIBgyFgovyt  ...             NaN\n",
              "1873  spotify:track:377Rrlob4oXIe3nO2ELEvN  ...             NaN\n",
              "6991  spotify:track:0vVNNJKHHJbO6gAa09eJvh  ...             NaN\n",
              "7077  spotify:track:4RgpXBUQKcDISEMGGuM6Op  ...             NaN\n",
              "8493  spotify:track:2q8PsdkYu597s9hMrdjtCN  ...             NaN\n",
              "\n",
              "[23 rows x 7 columns]"
            ]
          },
          "metadata": {},
          "execution_count": 118
        }
      ]
    },
    {
      "cell_type": "code",
      "source": [
        "df1 = df[(df['lyrics_cleaned'].notna()) & (df['extract_summary'].notna())].copy()"
      ],
      "metadata": {
        "id": "L6fggxAQsLk8"
      },
      "execution_count": 119,
      "outputs": []
    },
    {
      "cell_type": "code",
      "source": [
        "df1.reset_index(inplace=True, drop=True)"
      ],
      "metadata": {
        "id": "NSo4Su9n2b0i"
      },
      "execution_count": 120,
      "outputs": []
    },
    {
      "cell_type": "code",
      "source": [
        "df1['extract_summary'] = df1['extract_summary'].astype('str')"
      ],
      "metadata": {
        "id": "hxf2-Kljs97W"
      },
      "execution_count": 121,
      "outputs": []
    },
    {
      "cell_type": "code",
      "source": [
        "lyrics = df1['extract_summary'].values"
      ],
      "metadata": {
        "id": "VEzaTNdNsNm-"
      },
      "execution_count": 122,
      "outputs": []
    },
    {
      "cell_type": "markdown",
      "source": [
        "### Clean text"
      ],
      "metadata": {
        "id": "P4eV9Ce3sOUt"
      }
    },
    {
      "cell_type": "code",
      "source": [
        "nltk.download('stopwords')"
      ],
      "metadata": {
        "colab": {
          "base_uri": "https://localhost:8080/"
        },
        "id": "wxrp0NvAr3H3",
        "outputId": "71dd2e19-594d-48f4-d5cf-71d2c85439d8"
      },
      "execution_count": 14,
      "outputs": [
        {
          "output_type": "stream",
          "name": "stdout",
          "text": [
            "[nltk_data] Downloading package stopwords to /root/nltk_data...\n",
            "[nltk_data]   Unzipping corpora/stopwords.zip.\n"
          ]
        },
        {
          "output_type": "execute_result",
          "data": {
            "text/plain": [
              "True"
            ]
          },
          "metadata": {},
          "execution_count": 14
        }
      ]
    },
    {
      "cell_type": "code",
      "source": [
        "nltk.download('wordnet')"
      ],
      "metadata": {
        "colab": {
          "base_uri": "https://localhost:8080/"
        },
        "id": "fU-4Q6K9shyt",
        "outputId": "22df4ccf-c62b-44d7-c366-0ee220da94d8"
      },
      "execution_count": 19,
      "outputs": [
        {
          "output_type": "stream",
          "name": "stdout",
          "text": [
            "[nltk_data] Downloading package wordnet to /root/nltk_data...\n",
            "[nltk_data]   Unzipping corpora/wordnet.zip.\n"
          ]
        },
        {
          "output_type": "execute_result",
          "data": {
            "text/plain": [
              "True"
            ]
          },
          "metadata": {},
          "execution_count": 19
        }
      ]
    },
    {
      "cell_type": "code",
      "source": [
        "from nltk.corpus import stopwords\n",
        "stops = set(stopwords.words('english'))"
      ],
      "metadata": {
        "id": "bcmfO6svr3C0"
      },
      "execution_count": 15,
      "outputs": []
    },
    {
      "cell_type": "code",
      "source": [
        "from nltk.stem import WordNetLemmatizer\n",
        "stemmer = WordNetLemmatizer()"
      ],
      "metadata": {
        "id": "-_Cgwi5Zr28K"
      },
      "execution_count": 16,
      "outputs": []
    },
    {
      "cell_type": "code",
      "source": [
        "def clean(text):\n",
        "  text = str(text)\n",
        "  text = text.strip() \n",
        "  text = text.lower()\n",
        "\n",
        "  # remove special characters\n",
        "  text = re.sub(r'\\W', ' ', text) \n",
        "\n",
        "  # tokenize\n",
        "  tokens = text.split()\n",
        "\n",
        "  #lemmatize, remove stopwords\n",
        "  tokens = [stemmer.lemmatize(str(i)) for i in tokens if i not in stops]\n",
        "\n",
        "  return tokens"
      ],
      "metadata": {
        "id": "uVGfrZcBsUNE"
      },
      "execution_count": 95,
      "outputs": []
    },
    {
      "cell_type": "code",
      "source": [
        "lyric_tokens = [clean(l) for l in lyrics]"
      ],
      "metadata": {
        "id": "BGE2vGafsaPD"
      },
      "execution_count": 123,
      "outputs": []
    },
    {
      "cell_type": "code",
      "source": [
        "lyric_tokens[9]"
      ],
      "metadata": {
        "colab": {
          "base_uri": "https://localhost:8080/"
        },
        "id": "KQkkmC4jtR1A",
        "outputId": "3c59125a-b8d2-47e4-d73f-a4f9e7b40d04"
      },
      "execution_count": 124,
      "outputs": [
        {
          "output_type": "execute_result",
          "data": {
            "text/plain": [
              "['fuck', 'yuh', 'yuh', 'fuck', 'meditate', 'fuck', 'la']"
            ]
          },
          "metadata": {},
          "execution_count": 124
        }
      ]
    },
    {
      "cell_type": "markdown",
      "source": [
        "### FastText Embeddings"
      ],
      "metadata": {
        "id": "_cN6tacDsV1A"
      }
    },
    {
      "cell_type": "markdown",
      "source": [
        "Fasttext word embeddings take into account character n-grams (i.e. enriches word vectors with subtext information). This allows for better performance on out-of-vocabulary words compared to other embedding methods. In lyrics, there will be a lot of misspelled or shortened words, so this embedding method may be better suited for this task. "
      ],
      "metadata": {
        "id": "zqiJU4Vdt2xU"
      }
    },
    {
      "cell_type": "code",
      "execution_count": 1,
      "metadata": {
        "colab": {
          "base_uri": "https://localhost:8080/"
        },
        "id": "wgdjp94hi7-V",
        "outputId": "a77f116b-cc7f-48f6-db82-9010ca5b3f20"
      },
      "outputs": [
        {
          "output_type": "stream",
          "name": "stdout",
          "text": [
            "Collecting fasttext\n",
            "  Downloading fasttext-0.9.2.tar.gz (68 kB)\n",
            "\u001b[?25l\r\u001b[K     |████▊                           | 10 kB 19.2 MB/s eta 0:00:01\r\u001b[K     |█████████▌                      | 20 kB 22.4 MB/s eta 0:00:01\r\u001b[K     |██████████████▎                 | 30 kB 18.8 MB/s eta 0:00:01\r\u001b[K     |███████████████████             | 40 kB 12.6 MB/s eta 0:00:01\r\u001b[K     |███████████████████████▉        | 51 kB 8.9 MB/s eta 0:00:01\r\u001b[K     |████████████████████████████▋   | 61 kB 10.3 MB/s eta 0:00:01\r\u001b[K     |████████████████████████████████| 68 kB 2.9 MB/s \n",
            "\u001b[?25hCollecting pybind11>=2.2\n",
            "  Using cached pybind11-2.9.1-py2.py3-none-any.whl (211 kB)\n",
            "Requirement already satisfied: setuptools>=0.7.0 in /usr/local/lib/python3.7/dist-packages (from fasttext) (57.4.0)\n",
            "Requirement already satisfied: numpy in /usr/local/lib/python3.7/dist-packages (from fasttext) (1.21.5)\n",
            "Building wheels for collected packages: fasttext\n",
            "  Building wheel for fasttext (setup.py) ... \u001b[?25l\u001b[?25hdone\n",
            "  Created wheel for fasttext: filename=fasttext-0.9.2-cp37-cp37m-linux_x86_64.whl size=3128481 sha256=cc89a54183f4d7412377c0049a3efa360ad4e2894323611c515f07d44128ad6a\n",
            "  Stored in directory: /root/.cache/pip/wheels/4e/ca/bf/b020d2be95f7641801a6597a29c8f4f19e38f9c02a345bab9b\n",
            "Successfully built fasttext\n",
            "Installing collected packages: pybind11, fasttext\n",
            "Successfully installed fasttext-0.9.2 pybind11-2.9.1\n"
          ]
        }
      ],
      "source": [
        "!pip install fasttext"
      ]
    },
    {
      "cell_type": "code",
      "source": [
        "import fasttext.util\n",
        "fasttext.util.download_model('en', if_exists='ignore')  # English\n",
        "ft = fasttext.load_model('cc.en.300.bin')"
      ],
      "metadata": {
        "colab": {
          "base_uri": "https://localhost:8080/"
        },
        "id": "zFCj2_sni9gn",
        "outputId": "408ed8ff-eac6-4fd7-8f2b-a8c7c78d7f48"
      },
      "execution_count": 2,
      "outputs": [
        {
          "output_type": "stream",
          "name": "stdout",
          "text": [
            "Downloading https://dl.fbaipublicfiles.com/fasttext/vectors-crawl/cc.en.300.bin.gz\n",
            "\n"
          ]
        },
        {
          "output_type": "stream",
          "name": "stderr",
          "text": [
            "Warning : `load_model` does not return WordVectorModel or SupervisedModel any more, but a `FastText` object which is very similar.\n"
          ]
        }
      ]
    },
    {
      "cell_type": "code",
      "source": [
        "def get_vector(tokens):\n",
        "  vec = np.zeros(300)\n",
        "  for i in tokens:\n",
        "    vec += ft.get_word_vector(i)\n",
        "  vec /= len(tokens)\n",
        "  return vec\n"
      ],
      "metadata": {
        "id": "v-134impjYbK"
      },
      "execution_count": 42,
      "outputs": []
    },
    {
      "cell_type": "code",
      "source": [
        "lyric_vecs = [get_vector(l) for l in lyric_tokens]"
      ],
      "metadata": {
        "id": "W_Xl2P4mr14x"
      },
      "execution_count": 125,
      "outputs": []
    },
    {
      "cell_type": "code",
      "source": [
        "lyric_vecs = np.array(lyric_vecs)\n",
        "print(lyric_vecs.shape)"
      ],
      "metadata": {
        "colab": {
          "base_uri": "https://localhost:8080/"
        },
        "id": "SXGUpWP2r2Ac",
        "outputId": "e3f170da-67a6-4a2f-eb76-766f27a1e94a"
      },
      "execution_count": 126,
      "outputs": [
        {
          "output_type": "stream",
          "name": "stdout",
          "text": [
            "(8026, 300)\n"
          ]
        }
      ]
    },
    {
      "cell_type": "markdown",
      "source": [
        "### Calculate similarity scores"
      ],
      "metadata": {
        "id": "j0Do4YQwuMvj"
      }
    },
    {
      "cell_type": "markdown",
      "source": [
        "#### Cosine similarity"
      ],
      "metadata": {
        "id": "8bElR8UruQfJ"
      }
    },
    {
      "cell_type": "code",
      "source": [
        "from sklearn.metrics.pairwise import cosine_similarity"
      ],
      "metadata": {
        "id": "Ejv4AKy0v51K"
      },
      "execution_count": 52,
      "outputs": []
    },
    {
      "cell_type": "code",
      "source": [
        "similarity_mat = cosine_similarity(lyric_vecs)"
      ],
      "metadata": {
        "id": "IfamtE8NwVnB"
      },
      "execution_count": 127,
      "outputs": []
    },
    {
      "cell_type": "code",
      "source": [
        "similarity_mat.shape"
      ],
      "metadata": {
        "colab": {
          "base_uri": "https://localhost:8080/"
        },
        "id": "uiW8KbLzwZh-",
        "outputId": "3ff9069f-b94f-4c6c-dfbb-6578666e3b0c"
      },
      "execution_count": 128,
      "outputs": [
        {
          "output_type": "execute_result",
          "data": {
            "text/plain": [
              "(8026, 8026)"
            ]
          },
          "metadata": {},
          "execution_count": 128
        }
      ]
    },
    {
      "cell_type": "code",
      "source": [
        "# for each song, get ID of top 10 ranked song indices\n",
        "def get_top_10(similarity_matrix):\n",
        "  top_10_indices = []\n",
        "  for i in range(len(similarity_matrix)):\n",
        "    scores = similarity_matrix[i]\n",
        "\n",
        "    # the top similarity will be with the song itself, so we do not return that item in the top-10 list\n",
        "    top_10 = np.argsort(scores)[::-1][1:11]\n",
        "\n",
        "    top_10_indices.append(top_10)\n",
        "  return top_10_indices"
      ],
      "metadata": {
        "id": "QMPmHvwHwcek"
      },
      "execution_count": 129,
      "outputs": []
    },
    {
      "cell_type": "code",
      "source": [
        "top_10_similarities = get_top_10(similarity_mat)"
      ],
      "metadata": {
        "id": "Hq3ibA0sw4LA"
      },
      "execution_count": 130,
      "outputs": []
    },
    {
      "cell_type": "code",
      "source": [
        "top_10_similarities = np.array(top_10_similarities)"
      ],
      "metadata": {
        "id": "NogXUblDw5rV"
      },
      "execution_count": 131,
      "outputs": []
    },
    {
      "cell_type": "code",
      "source": [
        "top_10_similarities.shape"
      ],
      "metadata": {
        "colab": {
          "base_uri": "https://localhost:8080/"
        },
        "id": "ordickMnxAg_",
        "outputId": "22261325-5fd3-4908-ea2e-7f5d259f8397"
      },
      "execution_count": 132,
      "outputs": [
        {
          "output_type": "execute_result",
          "data": {
            "text/plain": [
              "(8026, 10)"
            ]
          },
          "metadata": {},
          "execution_count": 132
        }
      ]
    },
    {
      "cell_type": "code",
      "source": [
        "top_10_similarities[0]"
      ],
      "metadata": {
        "colab": {
          "base_uri": "https://localhost:8080/"
        },
        "id": "_QzcVTPuxBVF",
        "outputId": "cd59be19-1efb-418a-be0a-b13fe7e3850e"
      },
      "execution_count": 133,
      "outputs": [
        {
          "output_type": "execute_result",
          "data": {
            "text/plain": [
              "array([3947, 5276, 4055, 5208, 1895, 3149, 3537, 1739, 1629,  934])"
            ]
          },
          "metadata": {},
          "execution_count": 133
        }
      ]
    },
    {
      "cell_type": "code",
      "source": [
        "print('lyric:\\n', df1.loc[0, 'extract_summary'])\n",
        "print('\\ntop 10 similar lyric summaries:\\n')\n",
        "for i in top_10_similarities[0]:\n",
        "  print(df1.loc[i, 'extract_summary'])"
      ],
      "metadata": {
        "colab": {
          "base_uri": "https://localhost:8080/"
        },
        "id": "1kk6ODYo07tF",
        "outputId": "c76879c3-7845-4d40-ecf0-dfbfee351bdb"
      },
      "execution_count": 134,
      "outputs": [
        {
          "output_type": "stream",
          "name": "stdout",
          "text": [
            "lyric:\n",
            " Ask me if I give a fuck about a diss, yuh. Ask me if I give a fuck about fame, yuh\n",
            "\n",
            "top 10 similar lyric summaries:\n",
            "\n",
            "Fuck up out of my face like cryptickayik and then erase, yuh. Do not give a fuck about your feelings, not today, yuh\n",
            "Ain't nothing different, fuck it. Yuh, right\n",
            "Fuck her like I'm in a rush, yuh. I turn my voice to the books, yuh\n",
            "I know she a goddess, yuh. I know that she got it, yuh\n",
            "That bitch a baddie, yuh. And she call me daddy, yuh\n",
            ", yuh. We testin' up, I'm like \"Hold on\" bitch\n",
            "Yuh, yuh, ayy, I just wanna fuck shit up (It's up and it’s stuck). I just wanna fuck shit up (It's up and it’s stuck)\n",
            ", someone, call a medic, yuh (Yuh).  like I'm on a mission, yuh (Yuh)\n",
            "Yuh, yuh, yuh. Suicidal, you know how that thing go\n",
            "Swear I wanna die, yeah, when you cross my—Said I wanna die, yuh, no, I'm not alright, yuh. I might start a riot, yuh, I'm so fuckin' tired, yuh\n"
          ]
        }
      ]
    },
    {
      "cell_type": "code",
      "source": [
        "# to make sure the indices of songs match with the top-10 list later on, reset indices for df1 to preserve this information\n",
        "df1.reset_index(inplace=True)"
      ],
      "metadata": {
        "id": "t93iUSewzFUv"
      },
      "execution_count": 135,
      "outputs": []
    },
    {
      "cell_type": "code",
      "source": [
        "df1.head()"
      ],
      "metadata": {
        "colab": {
          "base_uri": "https://localhost:8080/",
          "height": 354
        },
        "id": "12e83n2Bzcc-",
        "outputId": "1f2d2cba-d96c-4261-9852-ae4ac33339f6"
      },
      "execution_count": 136,
      "outputs": [
        {
          "output_type": "execute_result",
          "data": {
            "text/html": [
              "\n",
              "  <div id=\"df-96746c58-fed3-442f-85f7-fcba75bec128\">\n",
              "    <div class=\"colab-df-container\">\n",
              "      <div>\n",
              "<style scoped>\n",
              "    .dataframe tbody tr th:only-of-type {\n",
              "        vertical-align: middle;\n",
              "    }\n",
              "\n",
              "    .dataframe tbody tr th {\n",
              "        vertical-align: top;\n",
              "    }\n",
              "\n",
              "    .dataframe thead th {\n",
              "        text-align: right;\n",
              "    }\n",
              "</style>\n",
              "<table border=\"1\" class=\"dataframe\">\n",
              "  <thead>\n",
              "    <tr style=\"text-align: right;\">\n",
              "      <th></th>\n",
              "      <th>index</th>\n",
              "      <th>uri</th>\n",
              "      <th>track</th>\n",
              "      <th>artist</th>\n",
              "      <th>cover image</th>\n",
              "      <th>lyrics</th>\n",
              "      <th>lyrics_cleaned</th>\n",
              "      <th>extract_summary</th>\n",
              "    </tr>\n",
              "  </thead>\n",
              "  <tbody>\n",
              "    <tr>\n",
              "      <th>0</th>\n",
              "      <td>0</td>\n",
              "      <td>spotify:track:2Vc6NJ9PW9gD9q343XFRKx</td>\n",
              "      <td>Mercury: Retrograde</td>\n",
              "      <td>ghostemane</td>\n",
              "      <td>https://i.scdn.co/image/ab67616d0000b27347fa48...</td>\n",
              "      <td>[Intro]Ask me if I give a fuck about a clique,...</td>\n",
              "      <td>Ask me if I give a fuck about a clique, ayy. A...</td>\n",
              "      <td>Ask me if I give a fuck about a diss, yuh. Ask...</td>\n",
              "    </tr>\n",
              "    <tr>\n",
              "      <th>1</th>\n",
              "      <td>1</td>\n",
              "      <td>spotify:track:7pgJBLVz5VmnL7uGHmRj6p</td>\n",
              "      <td>Pathology</td>\n",
              "      <td>don kenobi</td>\n",
              "      <td>https://i.scdn.co/image/ab67616d0000b27391b3f8...</td>\n",
              "      <td>[Intro: Don Kenobi]In due time it feels like t...</td>\n",
              "      <td>In due time it feels like this all makes sense...</td>\n",
              "      <td>I’m tired of change, life has been weighing me...</td>\n",
              "    </tr>\n",
              "    <tr>\n",
              "      <th>2</th>\n",
              "      <td>2</td>\n",
              "      <td>spotify:track:0vSWgAlfpye0WCGeNmuNhy</td>\n",
              "      <td>Symbiote</td>\n",
              "      <td>gizmo</td>\n",
              "      <td>https://i.scdn.co/image/ab67616d0000b2731981f3...</td>\n",
              "      <td>[Verse]Aye, AyeSmoke a Dutch bluntDon't flick ...</td>\n",
              "      <td>Aye, Aye. Smoke a Dutch blunt. Don't flick the...</td>\n",
              "      <td>Giz I didn't fuckin mean it. Giz I didn't mean...</td>\n",
              "    </tr>\n",
              "    <tr>\n",
              "      <th>3</th>\n",
              "      <td>3</td>\n",
              "      <td>spotify:track:4RYhSQFFlquCTb8XRMJgFU</td>\n",
              "      <td>Venom</td>\n",
              "      <td>$uicideboy$</td>\n",
              "      <td>https://i.scdn.co/image/ab67616d0000b2737811bf...</td>\n",
              "      <td>[Intro: D.J. Live Wire]Ratatatatatata, boom!Ra...</td>\n",
              "      <td>Ratatatatatata, boom!Ratatatatatata, boom!Two ...</td>\n",
              "      <td>Ratatatatatata, boom. And now we talking thric...</td>\n",
              "    </tr>\n",
              "    <tr>\n",
              "      <th>4</th>\n",
              "      <td>4</td>\n",
              "      <td>spotify:track:6fsypiJHyWmeINsOLC1cos</td>\n",
              "      <td>Gatteka</td>\n",
              "      <td>ghostemane</td>\n",
              "      <td>https://i.scdn.co/image/ab67616d0000b273b5ea1c...</td>\n",
              "      <td>[Intro]Ayy, ayy, uh, uh, uh[Chorus]See, I just...</td>\n",
              "      <td>Ayy, ayy, uh, uh, uh. See, I just can’t relate...</td>\n",
              "      <td>See, I just can’t relate. I can’t relate, I ca...</td>\n",
              "    </tr>\n",
              "  </tbody>\n",
              "</table>\n",
              "</div>\n",
              "      <button class=\"colab-df-convert\" onclick=\"convertToInteractive('df-96746c58-fed3-442f-85f7-fcba75bec128')\"\n",
              "              title=\"Convert this dataframe to an interactive table.\"\n",
              "              style=\"display:none;\">\n",
              "        \n",
              "  <svg xmlns=\"http://www.w3.org/2000/svg\" height=\"24px\"viewBox=\"0 0 24 24\"\n",
              "       width=\"24px\">\n",
              "    <path d=\"M0 0h24v24H0V0z\" fill=\"none\"/>\n",
              "    <path d=\"M18.56 5.44l.94 2.06.94-2.06 2.06-.94-2.06-.94-.94-2.06-.94 2.06-2.06.94zm-11 1L8.5 8.5l.94-2.06 2.06-.94-2.06-.94L8.5 2.5l-.94 2.06-2.06.94zm10 10l.94 2.06.94-2.06 2.06-.94-2.06-.94-.94-2.06-.94 2.06-2.06.94z\"/><path d=\"M17.41 7.96l-1.37-1.37c-.4-.4-.92-.59-1.43-.59-.52 0-1.04.2-1.43.59L10.3 9.45l-7.72 7.72c-.78.78-.78 2.05 0 2.83L4 21.41c.39.39.9.59 1.41.59.51 0 1.02-.2 1.41-.59l7.78-7.78 2.81-2.81c.8-.78.8-2.07 0-2.86zM5.41 20L4 18.59l7.72-7.72 1.47 1.35L5.41 20z\"/>\n",
              "  </svg>\n",
              "      </button>\n",
              "      \n",
              "  <style>\n",
              "    .colab-df-container {\n",
              "      display:flex;\n",
              "      flex-wrap:wrap;\n",
              "      gap: 12px;\n",
              "    }\n",
              "\n",
              "    .colab-df-convert {\n",
              "      background-color: #E8F0FE;\n",
              "      border: none;\n",
              "      border-radius: 50%;\n",
              "      cursor: pointer;\n",
              "      display: none;\n",
              "      fill: #1967D2;\n",
              "      height: 32px;\n",
              "      padding: 0 0 0 0;\n",
              "      width: 32px;\n",
              "    }\n",
              "\n",
              "    .colab-df-convert:hover {\n",
              "      background-color: #E2EBFA;\n",
              "      box-shadow: 0px 1px 2px rgba(60, 64, 67, 0.3), 0px 1px 3px 1px rgba(60, 64, 67, 0.15);\n",
              "      fill: #174EA6;\n",
              "    }\n",
              "\n",
              "    [theme=dark] .colab-df-convert {\n",
              "      background-color: #3B4455;\n",
              "      fill: #D2E3FC;\n",
              "    }\n",
              "\n",
              "    [theme=dark] .colab-df-convert:hover {\n",
              "      background-color: #434B5C;\n",
              "      box-shadow: 0px 1px 3px 1px rgba(0, 0, 0, 0.15);\n",
              "      filter: drop-shadow(0px 1px 2px rgba(0, 0, 0, 0.3));\n",
              "      fill: #FFFFFF;\n",
              "    }\n",
              "  </style>\n",
              "\n",
              "      <script>\n",
              "        const buttonEl =\n",
              "          document.querySelector('#df-96746c58-fed3-442f-85f7-fcba75bec128 button.colab-df-convert');\n",
              "        buttonEl.style.display =\n",
              "          google.colab.kernel.accessAllowed ? 'block' : 'none';\n",
              "\n",
              "        async function convertToInteractive(key) {\n",
              "          const element = document.querySelector('#df-96746c58-fed3-442f-85f7-fcba75bec128');\n",
              "          const dataTable =\n",
              "            await google.colab.kernel.invokeFunction('convertToInteractive',\n",
              "                                                     [key], {});\n",
              "          if (!dataTable) return;\n",
              "\n",
              "          const docLinkHtml = 'Like what you see? Visit the ' +\n",
              "            '<a target=\"_blank\" href=https://colab.research.google.com/notebooks/data_table.ipynb>data table notebook</a>'\n",
              "            + ' to learn more about interactive tables.';\n",
              "          element.innerHTML = '';\n",
              "          dataTable['output_type'] = 'display_data';\n",
              "          await google.colab.output.renderOutput(dataTable, element);\n",
              "          const docLink = document.createElement('div');\n",
              "          docLink.innerHTML = docLinkHtml;\n",
              "          element.appendChild(docLink);\n",
              "        }\n",
              "      </script>\n",
              "    </div>\n",
              "  </div>\n",
              "  "
            ],
            "text/plain": [
              "   index  ...                                    extract_summary\n",
              "0      0  ...  Ask me if I give a fuck about a diss, yuh. Ask...\n",
              "1      1  ...  I’m tired of change, life has been weighing me...\n",
              "2      2  ...  Giz I didn't fuckin mean it. Giz I didn't mean...\n",
              "3      3  ...  Ratatatatatata, boom. And now we talking thric...\n",
              "4      4  ...  See, I just can’t relate. I can’t relate, I ca...\n",
              "\n",
              "[5 rows x 8 columns]"
            ]
          },
          "metadata": {},
          "execution_count": 136
        }
      ]
    },
    {
      "cell_type": "code",
      "source": [
        "df1['top_1_similar'] = top_10_similarities[:, 0]\n",
        "df1['top_2_similar'] = top_10_similarities[:, 1]\n",
        "df1['top_3_similar'] = top_10_similarities[:, 2]\n",
        "df1['top_4_similar'] = top_10_similarities[:, 3]\n",
        "df1['top_5_similar'] = top_10_similarities[:, 4]"
      ],
      "metadata": {
        "id": "6SNE09111NoI"
      },
      "execution_count": 138,
      "outputs": []
    },
    {
      "cell_type": "code",
      "source": [
        "np.savetxt('/content/drive/MyDrive/Art_ML/lyric_top_10_similarities.txt', top_10_similarities, delimiter=',')"
      ],
      "metadata": {
        "id": "i0JsQLG6zpI_"
      },
      "execution_count": 139,
      "outputs": []
    },
    {
      "cell_type": "code",
      "source": [
        "df1.to_csv('/content/drive/MyDrive/Art_ML/songs_dataset_w_similarity.csv', index=False)"
      ],
      "metadata": {
        "id": "jPydghraztwt"
      },
      "execution_count": 141,
      "outputs": []
    },
    {
      "cell_type": "code",
      "source": [
        ""
      ],
      "metadata": {
        "id": "TlkRMT0Q4C_0"
      },
      "execution_count": null,
      "outputs": []
    }
  ]
}